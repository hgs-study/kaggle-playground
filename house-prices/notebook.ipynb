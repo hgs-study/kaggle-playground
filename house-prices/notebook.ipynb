{
 "cells": [
  {
   "cell_type": "code",
   "execution_count": 2,
   "outputs": [],
   "source": [
    "import numpy as np \n",
    "import pandas as pd\n",
    "from sklearn.ensemble import GradientBoostingRegressor"
   ],
   "metadata": {
    "collapsed": false,
    "ExecuteTime": {
     "end_time": "2024-06-29T09:06:27.731240Z",
     "start_time": "2024-06-29T09:06:27.727716Z"
    }
   },
   "id": "4368e3dee86cd6df"
  },
  {
   "cell_type": "code",
   "execution_count": 3,
   "outputs": [],
   "source": [
    "train_dataset = pd.read_csv(\"./resources/train.csv\")\n",
    "test_dataset = pd.read_csv(\"./resources/test.csv\")\n",
    "\n",
    "train_label_dataset = train_dataset['SalePrice'] "
   ],
   "metadata": {
    "collapsed": false,
    "ExecuteTime": {
     "end_time": "2024-06-29T09:06:28.517312Z",
     "start_time": "2024-06-29T09:06:28.491158Z"
    }
   },
   "id": "c7c1b18d2a05ed91"
  },
  {
   "cell_type": "code",
   "execution_count": 4,
   "outputs": [
    {
     "data": {
      "text/plain": "   Id  MSSubClass MSZoning  LotFrontage  LotArea Street Alley LotShape  \\\n0   1          60       RL         65.0     8450   Pave   NaN      Reg   \n1   2          20       RL         80.0     9600   Pave   NaN      Reg   \n2   3          60       RL         68.0    11250   Pave   NaN      IR1   \n3   4          70       RL         60.0     9550   Pave   NaN      IR1   \n4   5          60       RL         84.0    14260   Pave   NaN      IR1   \n\n  LandContour Utilities  ... PoolArea PoolQC Fence MiscFeature MiscVal MoSold  \\\n0         Lvl    AllPub  ...        0    NaN   NaN         NaN       0      2   \n1         Lvl    AllPub  ...        0    NaN   NaN         NaN       0      5   \n2         Lvl    AllPub  ...        0    NaN   NaN         NaN       0      9   \n3         Lvl    AllPub  ...        0    NaN   NaN         NaN       0      2   \n4         Lvl    AllPub  ...        0    NaN   NaN         NaN       0     12   \n\n  YrSold  SaleType  SaleCondition  SalePrice  \n0   2008        WD         Normal     208500  \n1   2007        WD         Normal     181500  \n2   2008        WD         Normal     223500  \n3   2006        WD        Abnorml     140000  \n4   2008        WD         Normal     250000  \n\n[5 rows x 81 columns]",
      "text/html": "<div>\n<style scoped>\n    .dataframe tbody tr th:only-of-type {\n        vertical-align: middle;\n    }\n\n    .dataframe tbody tr th {\n        vertical-align: top;\n    }\n\n    .dataframe thead th {\n        text-align: right;\n    }\n</style>\n<table border=\"1\" class=\"dataframe\">\n  <thead>\n    <tr style=\"text-align: right;\">\n      <th></th>\n      <th>Id</th>\n      <th>MSSubClass</th>\n      <th>MSZoning</th>\n      <th>LotFrontage</th>\n      <th>LotArea</th>\n      <th>Street</th>\n      <th>Alley</th>\n      <th>LotShape</th>\n      <th>LandContour</th>\n      <th>Utilities</th>\n      <th>...</th>\n      <th>PoolArea</th>\n      <th>PoolQC</th>\n      <th>Fence</th>\n      <th>MiscFeature</th>\n      <th>MiscVal</th>\n      <th>MoSold</th>\n      <th>YrSold</th>\n      <th>SaleType</th>\n      <th>SaleCondition</th>\n      <th>SalePrice</th>\n    </tr>\n  </thead>\n  <tbody>\n    <tr>\n      <th>0</th>\n      <td>1</td>\n      <td>60</td>\n      <td>RL</td>\n      <td>65.0</td>\n      <td>8450</td>\n      <td>Pave</td>\n      <td>NaN</td>\n      <td>Reg</td>\n      <td>Lvl</td>\n      <td>AllPub</td>\n      <td>...</td>\n      <td>0</td>\n      <td>NaN</td>\n      <td>NaN</td>\n      <td>NaN</td>\n      <td>0</td>\n      <td>2</td>\n      <td>2008</td>\n      <td>WD</td>\n      <td>Normal</td>\n      <td>208500</td>\n    </tr>\n    <tr>\n      <th>1</th>\n      <td>2</td>\n      <td>20</td>\n      <td>RL</td>\n      <td>80.0</td>\n      <td>9600</td>\n      <td>Pave</td>\n      <td>NaN</td>\n      <td>Reg</td>\n      <td>Lvl</td>\n      <td>AllPub</td>\n      <td>...</td>\n      <td>0</td>\n      <td>NaN</td>\n      <td>NaN</td>\n      <td>NaN</td>\n      <td>0</td>\n      <td>5</td>\n      <td>2007</td>\n      <td>WD</td>\n      <td>Normal</td>\n      <td>181500</td>\n    </tr>\n    <tr>\n      <th>2</th>\n      <td>3</td>\n      <td>60</td>\n      <td>RL</td>\n      <td>68.0</td>\n      <td>11250</td>\n      <td>Pave</td>\n      <td>NaN</td>\n      <td>IR1</td>\n      <td>Lvl</td>\n      <td>AllPub</td>\n      <td>...</td>\n      <td>0</td>\n      <td>NaN</td>\n      <td>NaN</td>\n      <td>NaN</td>\n      <td>0</td>\n      <td>9</td>\n      <td>2008</td>\n      <td>WD</td>\n      <td>Normal</td>\n      <td>223500</td>\n    </tr>\n    <tr>\n      <th>3</th>\n      <td>4</td>\n      <td>70</td>\n      <td>RL</td>\n      <td>60.0</td>\n      <td>9550</td>\n      <td>Pave</td>\n      <td>NaN</td>\n      <td>IR1</td>\n      <td>Lvl</td>\n      <td>AllPub</td>\n      <td>...</td>\n      <td>0</td>\n      <td>NaN</td>\n      <td>NaN</td>\n      <td>NaN</td>\n      <td>0</td>\n      <td>2</td>\n      <td>2006</td>\n      <td>WD</td>\n      <td>Abnorml</td>\n      <td>140000</td>\n    </tr>\n    <tr>\n      <th>4</th>\n      <td>5</td>\n      <td>60</td>\n      <td>RL</td>\n      <td>84.0</td>\n      <td>14260</td>\n      <td>Pave</td>\n      <td>NaN</td>\n      <td>IR1</td>\n      <td>Lvl</td>\n      <td>AllPub</td>\n      <td>...</td>\n      <td>0</td>\n      <td>NaN</td>\n      <td>NaN</td>\n      <td>NaN</td>\n      <td>0</td>\n      <td>12</td>\n      <td>2008</td>\n      <td>WD</td>\n      <td>Normal</td>\n      <td>250000</td>\n    </tr>\n  </tbody>\n</table>\n<p>5 rows × 81 columns</p>\n</div>"
     },
     "execution_count": 4,
     "metadata": {},
     "output_type": "execute_result"
    }
   ],
   "source": [
    "train_dataset.head()"
   ],
   "metadata": {
    "collapsed": false,
    "ExecuteTime": {
     "end_time": "2024-06-29T09:06:30.347635Z",
     "start_time": "2024-06-29T09:06:30.336717Z"
    }
   },
   "id": "40d076833de10220"
  },
  {
   "cell_type": "code",
   "execution_count": 275,
   "outputs": [
    {
     "data": {
      "text/plain": "            count          mean           std      min       25%       50%  \\\nSalePrice  1460.0  180921.19589  79442.502883  34900.0  129975.0  163000.0   \n\n                75%       max  \nSalePrice  214000.0  755000.0  ",
      "text/html": "<div>\n<style scoped>\n    .dataframe tbody tr th:only-of-type {\n        vertical-align: middle;\n    }\n\n    .dataframe tbody tr th {\n        vertical-align: top;\n    }\n\n    .dataframe thead th {\n        text-align: right;\n    }\n</style>\n<table border=\"1\" class=\"dataframe\">\n  <thead>\n    <tr style=\"text-align: right;\">\n      <th></th>\n      <th>count</th>\n      <th>mean</th>\n      <th>std</th>\n      <th>min</th>\n      <th>25%</th>\n      <th>50%</th>\n      <th>75%</th>\n      <th>max</th>\n    </tr>\n  </thead>\n  <tbody>\n    <tr>\n      <th>SalePrice</th>\n      <td>1460.0</td>\n      <td>180921.19589</td>\n      <td>79442.502883</td>\n      <td>34900.0</td>\n      <td>129975.0</td>\n      <td>163000.0</td>\n      <td>214000.0</td>\n      <td>755000.0</td>\n    </tr>\n  </tbody>\n</table>\n</div>"
     },
     "execution_count": 275,
     "metadata": {},
     "output_type": "execute_result"
    }
   ],
   "source": [
    "train_dataset[['SalePrice']].describe().T"
   ],
   "metadata": {
    "collapsed": false,
    "ExecuteTime": {
     "end_time": "2024-06-29T08:46:07.253405Z",
     "start_time": "2024-06-29T08:46:07.237429Z"
    }
   },
   "id": "aaa1c2f4d6ca592d"
  },
  {
   "cell_type": "code",
   "execution_count": 276,
   "outputs": [],
   "source": [
    "remove_columns = set()\n",
    "remove_columns.add('SalePrice')"
   ],
   "metadata": {
    "collapsed": false,
    "ExecuteTime": {
     "end_time": "2024-06-29T08:46:07.771739Z",
     "start_time": "2024-06-29T08:46:07.766192Z"
    }
   },
   "id": "393cb4c1e1117cb4"
  },
  {
   "cell_type": "code",
   "execution_count": 277,
   "outputs": [],
   "source": [
    "def sale_price_by_column(column: str, is_remove: bool = False):\n",
    "    if is_remove:\n",
    "        remove_columns.add(column)\n",
    "    return train_dataset[[column,'SalePrice']].groupby([column]).describe()"
   ],
   "metadata": {
    "collapsed": false,
    "ExecuteTime": {
     "end_time": "2024-06-29T08:46:08.163276Z",
     "start_time": "2024-06-29T08:46:08.157364Z"
    }
   },
   "id": "94c80644b2ad191"
  },
  {
   "cell_type": "code",
   "execution_count": 278,
   "outputs": [
    {
     "data": {
      "text/plain": "       SalePrice                                                            \\\n           count           mean           std      min       25%       50%   \nStreet                                                                       \nGrvl         6.0  130190.500000  65446.253991  55993.0   88250.0  114250.0   \nPave      1454.0  181130.538514  79446.597317  34900.0  130000.0  163000.0   \n\n                            \n             75%       max  \nStreet                      \nGrvl    169650.0  228950.0  \nPave    214000.0  755000.0  ",
      "text/html": "<div>\n<style scoped>\n    .dataframe tbody tr th:only-of-type {\n        vertical-align: middle;\n    }\n\n    .dataframe tbody tr th {\n        vertical-align: top;\n    }\n\n    .dataframe thead tr th {\n        text-align: left;\n    }\n\n    .dataframe thead tr:last-of-type th {\n        text-align: right;\n    }\n</style>\n<table border=\"1\" class=\"dataframe\">\n  <thead>\n    <tr>\n      <th></th>\n      <th colspan=\"8\" halign=\"left\">SalePrice</th>\n    </tr>\n    <tr>\n      <th></th>\n      <th>count</th>\n      <th>mean</th>\n      <th>std</th>\n      <th>min</th>\n      <th>25%</th>\n      <th>50%</th>\n      <th>75%</th>\n      <th>max</th>\n    </tr>\n    <tr>\n      <th>Street</th>\n      <th></th>\n      <th></th>\n      <th></th>\n      <th></th>\n      <th></th>\n      <th></th>\n      <th></th>\n      <th></th>\n    </tr>\n  </thead>\n  <tbody>\n    <tr>\n      <th>Grvl</th>\n      <td>6.0</td>\n      <td>130190.500000</td>\n      <td>65446.253991</td>\n      <td>55993.0</td>\n      <td>88250.0</td>\n      <td>114250.0</td>\n      <td>169650.0</td>\n      <td>228950.0</td>\n    </tr>\n    <tr>\n      <th>Pave</th>\n      <td>1454.0</td>\n      <td>181130.538514</td>\n      <td>79446.597317</td>\n      <td>34900.0</td>\n      <td>130000.0</td>\n      <td>163000.0</td>\n      <td>214000.0</td>\n      <td>755000.0</td>\n    </tr>\n  </tbody>\n</table>\n</div>"
     },
     "execution_count": 278,
     "metadata": {},
     "output_type": "execute_result"
    }
   ],
   "source": [
    "# 차도 유형 - 포장 or 비포장\n",
    "# 특성 제거 : Grvl 이 6개밖에 없어서 비율이 현저히 적다고 판단 \n",
    "sale_price_by_column('Street', True)"
   ],
   "metadata": {
    "collapsed": false,
    "ExecuteTime": {
     "end_time": "2024-06-29T08:46:08.565954Z",
     "start_time": "2024-06-29T08:46:08.555053Z"
    }
   },
   "id": "41449d329ea981e9"
  },
  {
   "cell_type": "code",
   "execution_count": 279,
   "outputs": [
    {
     "data": {
      "text/plain": "      SalePrice                                                            \\\n          count           mean           std      min       25%       50%   \nAlley                                                                       \nGrvl       50.0  122219.080000  34780.780734  52500.0  105312.5  119500.0   \nPave       41.0  168000.585366  38370.375243  40000.0  151000.0  172500.0   \n\n                           \n            75%       max  \nAlley                      \nGrvl   136750.0  256000.0  \nPave   185000.0  265979.0  ",
      "text/html": "<div>\n<style scoped>\n    .dataframe tbody tr th:only-of-type {\n        vertical-align: middle;\n    }\n\n    .dataframe tbody tr th {\n        vertical-align: top;\n    }\n\n    .dataframe thead tr th {\n        text-align: left;\n    }\n\n    .dataframe thead tr:last-of-type th {\n        text-align: right;\n    }\n</style>\n<table border=\"1\" class=\"dataframe\">\n  <thead>\n    <tr>\n      <th></th>\n      <th colspan=\"8\" halign=\"left\">SalePrice</th>\n    </tr>\n    <tr>\n      <th></th>\n      <th>count</th>\n      <th>mean</th>\n      <th>std</th>\n      <th>min</th>\n      <th>25%</th>\n      <th>50%</th>\n      <th>75%</th>\n      <th>max</th>\n    </tr>\n    <tr>\n      <th>Alley</th>\n      <th></th>\n      <th></th>\n      <th></th>\n      <th></th>\n      <th></th>\n      <th></th>\n      <th></th>\n      <th></th>\n    </tr>\n  </thead>\n  <tbody>\n    <tr>\n      <th>Grvl</th>\n      <td>50.0</td>\n      <td>122219.080000</td>\n      <td>34780.780734</td>\n      <td>52500.0</td>\n      <td>105312.5</td>\n      <td>119500.0</td>\n      <td>136750.0</td>\n      <td>256000.0</td>\n    </tr>\n    <tr>\n      <th>Pave</th>\n      <td>41.0</td>\n      <td>168000.585366</td>\n      <td>38370.375243</td>\n      <td>40000.0</td>\n      <td>151000.0</td>\n      <td>172500.0</td>\n      <td>185000.0</td>\n      <td>265979.0</td>\n    </tr>\n  </tbody>\n</table>\n</div>"
     },
     "execution_count": 279,
     "metadata": {},
     "output_type": "execute_result"
    }
   ],
   "source": [
    "# 골목길 유형 - 포장 or 비포장\n",
    "sale_price_by_column('Alley')"
   ],
   "metadata": {
    "collapsed": false,
    "ExecuteTime": {
     "end_time": "2024-06-29T08:46:08.793526Z",
     "start_time": "2024-06-29T08:46:08.773849Z"
    }
   },
   "id": "e1bd99825030f190"
  },
  {
   "cell_type": "code",
   "execution_count": 280,
   "outputs": [
    {
     "data": {
      "text/plain": "         SalePrice                                                             \\\n             count           mean           std       min       25%       50%   \nLotShape                                                                        \nIR1          484.0  206101.665289  85858.489559   52000.0  150000.0  189000.0   \nIR2           41.0  239833.365854  99669.427362  110000.0  175000.0  221000.0   \nIR3           10.0  216036.500000  82540.334855   73000.0  167875.0  203570.0   \nReg          925.0  164754.818378  69673.427215   34900.0  120000.0  146000.0   \n\n                              \n               75%       max  \nLotShape                      \nIR1       239000.0  755000.0  \nIR2       250000.0  538000.0  \nIR3       265000.0  375000.0  \nReg       188000.0  582933.0  ",
      "text/html": "<div>\n<style scoped>\n    .dataframe tbody tr th:only-of-type {\n        vertical-align: middle;\n    }\n\n    .dataframe tbody tr th {\n        vertical-align: top;\n    }\n\n    .dataframe thead tr th {\n        text-align: left;\n    }\n\n    .dataframe thead tr:last-of-type th {\n        text-align: right;\n    }\n</style>\n<table border=\"1\" class=\"dataframe\">\n  <thead>\n    <tr>\n      <th></th>\n      <th colspan=\"8\" halign=\"left\">SalePrice</th>\n    </tr>\n    <tr>\n      <th></th>\n      <th>count</th>\n      <th>mean</th>\n      <th>std</th>\n      <th>min</th>\n      <th>25%</th>\n      <th>50%</th>\n      <th>75%</th>\n      <th>max</th>\n    </tr>\n    <tr>\n      <th>LotShape</th>\n      <th></th>\n      <th></th>\n      <th></th>\n      <th></th>\n      <th></th>\n      <th></th>\n      <th></th>\n      <th></th>\n    </tr>\n  </thead>\n  <tbody>\n    <tr>\n      <th>IR1</th>\n      <td>484.0</td>\n      <td>206101.665289</td>\n      <td>85858.489559</td>\n      <td>52000.0</td>\n      <td>150000.0</td>\n      <td>189000.0</td>\n      <td>239000.0</td>\n      <td>755000.0</td>\n    </tr>\n    <tr>\n      <th>IR2</th>\n      <td>41.0</td>\n      <td>239833.365854</td>\n      <td>99669.427362</td>\n      <td>110000.0</td>\n      <td>175000.0</td>\n      <td>221000.0</td>\n      <td>250000.0</td>\n      <td>538000.0</td>\n    </tr>\n    <tr>\n      <th>IR3</th>\n      <td>10.0</td>\n      <td>216036.500000</td>\n      <td>82540.334855</td>\n      <td>73000.0</td>\n      <td>167875.0</td>\n      <td>203570.0</td>\n      <td>265000.0</td>\n      <td>375000.0</td>\n    </tr>\n    <tr>\n      <th>Reg</th>\n      <td>925.0</td>\n      <td>164754.818378</td>\n      <td>69673.427215</td>\n      <td>34900.0</td>\n      <td>120000.0</td>\n      <td>146000.0</td>\n      <td>188000.0</td>\n      <td>582933.0</td>\n    </tr>\n  </tbody>\n</table>\n</div>"
     },
     "execution_count": 280,
     "metadata": {},
     "output_type": "execute_result"
    }
   ],
   "source": [
    "# LotShape\n",
    "# 특성 제거 : IR1 min이 52000이고, max가 75만이기 때문에 해당 특성이 price에 영향을 준다는 신뢰가 낮다고 판단\n",
    "sale_price_by_column('LotShape', True)"
   ],
   "metadata": {
    "collapsed": false,
    "ExecuteTime": {
     "end_time": "2024-06-29T08:46:08.979121Z",
     "start_time": "2024-06-29T08:46:08.966430Z"
    }
   },
   "id": "7541d99b5cca63bb"
  },
  {
   "cell_type": "code",
   "execution_count": 281,
   "outputs": [
    {
     "data": {
      "text/plain": "            SalePrice                                                   \\\n                count           mean            std      min       25%   \nLandContour                                                              \nBnk              63.0  143104.079365   49361.244074  52500.0  113000.0   \nHLS              50.0  231533.940000  101790.139741  82500.0  151750.0   \nLow              36.0  203661.111111   83935.353620  39300.0  143000.0   \nLvl            1311.0  180183.746758   78463.567918  34900.0  130000.0   \n\n                                            \n                  50%        75%       max  \nLandContour                                 \nBnk          139400.0  171250.00  315000.0  \nHLS          222250.0  281347.25  538000.0  \nLow          190000.0  263750.00  385000.0  \nLvl          162900.0  212000.00  755000.0  ",
      "text/html": "<div>\n<style scoped>\n    .dataframe tbody tr th:only-of-type {\n        vertical-align: middle;\n    }\n\n    .dataframe tbody tr th {\n        vertical-align: top;\n    }\n\n    .dataframe thead tr th {\n        text-align: left;\n    }\n\n    .dataframe thead tr:last-of-type th {\n        text-align: right;\n    }\n</style>\n<table border=\"1\" class=\"dataframe\">\n  <thead>\n    <tr>\n      <th></th>\n      <th colspan=\"8\" halign=\"left\">SalePrice</th>\n    </tr>\n    <tr>\n      <th></th>\n      <th>count</th>\n      <th>mean</th>\n      <th>std</th>\n      <th>min</th>\n      <th>25%</th>\n      <th>50%</th>\n      <th>75%</th>\n      <th>max</th>\n    </tr>\n    <tr>\n      <th>LandContour</th>\n      <th></th>\n      <th></th>\n      <th></th>\n      <th></th>\n      <th></th>\n      <th></th>\n      <th></th>\n      <th></th>\n    </tr>\n  </thead>\n  <tbody>\n    <tr>\n      <th>Bnk</th>\n      <td>63.0</td>\n      <td>143104.079365</td>\n      <td>49361.244074</td>\n      <td>52500.0</td>\n      <td>113000.0</td>\n      <td>139400.0</td>\n      <td>171250.00</td>\n      <td>315000.0</td>\n    </tr>\n    <tr>\n      <th>HLS</th>\n      <td>50.0</td>\n      <td>231533.940000</td>\n      <td>101790.139741</td>\n      <td>82500.0</td>\n      <td>151750.0</td>\n      <td>222250.0</td>\n      <td>281347.25</td>\n      <td>538000.0</td>\n    </tr>\n    <tr>\n      <th>Low</th>\n      <td>36.0</td>\n      <td>203661.111111</td>\n      <td>83935.353620</td>\n      <td>39300.0</td>\n      <td>143000.0</td>\n      <td>190000.0</td>\n      <td>263750.00</td>\n      <td>385000.0</td>\n    </tr>\n    <tr>\n      <th>Lvl</th>\n      <td>1311.0</td>\n      <td>180183.746758</td>\n      <td>78463.567918</td>\n      <td>34900.0</td>\n      <td>130000.0</td>\n      <td>162900.0</td>\n      <td>212000.00</td>\n      <td>755000.0</td>\n    </tr>\n  </tbody>\n</table>\n</div>"
     },
     "execution_count": 281,
     "metadata": {},
     "output_type": "execute_result"
    }
   ],
   "source": [
    "# LandContour - 평탄함 정도\n",
    "sale_price_by_column('LandContour')"
   ],
   "metadata": {
    "collapsed": false,
    "ExecuteTime": {
     "end_time": "2024-06-29T08:46:09.212368Z",
     "start_time": "2024-06-29T08:46:09.201601Z"
    }
   },
   "id": "429d2bbfd3c8a694"
  },
  {
   "cell_type": "code",
   "execution_count": 282,
   "outputs": [
    {
     "data": {
      "text/plain": "          SalePrice                                                            \\\n              count          mean           std       min       25%       50%   \nUtilities                                                                       \nAllPub       1459.0  180950.95682  79461.599814   34900.0  129950.0  163000.0   \nNoSeWa          1.0  137500.00000           NaN  137500.0  137500.0  137500.0   \n\n                               \n                75%       max  \nUtilities                      \nAllPub     214000.0  755000.0  \nNoSeWa     137500.0  137500.0  ",
      "text/html": "<div>\n<style scoped>\n    .dataframe tbody tr th:only-of-type {\n        vertical-align: middle;\n    }\n\n    .dataframe tbody tr th {\n        vertical-align: top;\n    }\n\n    .dataframe thead tr th {\n        text-align: left;\n    }\n\n    .dataframe thead tr:last-of-type th {\n        text-align: right;\n    }\n</style>\n<table border=\"1\" class=\"dataframe\">\n  <thead>\n    <tr>\n      <th></th>\n      <th colspan=\"8\" halign=\"left\">SalePrice</th>\n    </tr>\n    <tr>\n      <th></th>\n      <th>count</th>\n      <th>mean</th>\n      <th>std</th>\n      <th>min</th>\n      <th>25%</th>\n      <th>50%</th>\n      <th>75%</th>\n      <th>max</th>\n    </tr>\n    <tr>\n      <th>Utilities</th>\n      <th></th>\n      <th></th>\n      <th></th>\n      <th></th>\n      <th></th>\n      <th></th>\n      <th></th>\n      <th></th>\n    </tr>\n  </thead>\n  <tbody>\n    <tr>\n      <th>AllPub</th>\n      <td>1459.0</td>\n      <td>180950.95682</td>\n      <td>79461.599814</td>\n      <td>34900.0</td>\n      <td>129950.0</td>\n      <td>163000.0</td>\n      <td>214000.0</td>\n      <td>755000.0</td>\n    </tr>\n    <tr>\n      <th>NoSeWa</th>\n      <td>1.0</td>\n      <td>137500.00000</td>\n      <td>NaN</td>\n      <td>137500.0</td>\n      <td>137500.0</td>\n      <td>137500.0</td>\n      <td>137500.0</td>\n      <td>137500.0</td>\n    </tr>\n  </tbody>\n</table>\n</div>"
     },
     "execution_count": 282,
     "metadata": {},
     "output_type": "execute_result"
    }
   ],
   "source": [
    "# Utilities \n",
    "# 특성 제거 : NoSeWa 카운트가 1밖에 안돼서 너무 적다고 판단\n",
    "sale_price_by_column('Utilities', True)"
   ],
   "metadata": {
    "collapsed": false,
    "ExecuteTime": {
     "end_time": "2024-06-29T08:46:09.402747Z",
     "start_time": "2024-06-29T08:46:09.386661Z"
    }
   },
   "id": "819409e855391d46"
  },
  {
   "cell_type": "code",
   "execution_count": 283,
   "outputs": [
    {
     "data": {
      "text/plain": "          SalePrice                                                   \\\n              count           mean           std       min       25%   \nLotConfig                                                              \nCorner        263.0  181623.425856  84466.041222   52500.0  129250.0   \nCulDSac        94.0  223854.617021  93117.546586   84000.0  156475.0   \nFR2            47.0  177934.574468  62788.926829   81000.0  143500.0   \nFR3             4.0  208475.000000  78379.222374  128000.0  169925.0   \nInside       1052.0  176938.047529  76426.805787   34900.0  128000.0   \n\n                                         \n                50%       75%       max  \nLotConfig                                \nCorner     160000.0  220000.0  755000.0  \nCulDSac    199262.0  269342.5  625000.0  \nFR2        165000.0  194500.0  394617.0  \nFR3        195450.0  234000.0  315000.0  \nInside     159697.5  207125.0  611657.0  ",
      "text/html": "<div>\n<style scoped>\n    .dataframe tbody tr th:only-of-type {\n        vertical-align: middle;\n    }\n\n    .dataframe tbody tr th {\n        vertical-align: top;\n    }\n\n    .dataframe thead tr th {\n        text-align: left;\n    }\n\n    .dataframe thead tr:last-of-type th {\n        text-align: right;\n    }\n</style>\n<table border=\"1\" class=\"dataframe\">\n  <thead>\n    <tr>\n      <th></th>\n      <th colspan=\"8\" halign=\"left\">SalePrice</th>\n    </tr>\n    <tr>\n      <th></th>\n      <th>count</th>\n      <th>mean</th>\n      <th>std</th>\n      <th>min</th>\n      <th>25%</th>\n      <th>50%</th>\n      <th>75%</th>\n      <th>max</th>\n    </tr>\n    <tr>\n      <th>LotConfig</th>\n      <th></th>\n      <th></th>\n      <th></th>\n      <th></th>\n      <th></th>\n      <th></th>\n      <th></th>\n      <th></th>\n    </tr>\n  </thead>\n  <tbody>\n    <tr>\n      <th>Corner</th>\n      <td>263.0</td>\n      <td>181623.425856</td>\n      <td>84466.041222</td>\n      <td>52500.0</td>\n      <td>129250.0</td>\n      <td>160000.0</td>\n      <td>220000.0</td>\n      <td>755000.0</td>\n    </tr>\n    <tr>\n      <th>CulDSac</th>\n      <td>94.0</td>\n      <td>223854.617021</td>\n      <td>93117.546586</td>\n      <td>84000.0</td>\n      <td>156475.0</td>\n      <td>199262.0</td>\n      <td>269342.5</td>\n      <td>625000.0</td>\n    </tr>\n    <tr>\n      <th>FR2</th>\n      <td>47.0</td>\n      <td>177934.574468</td>\n      <td>62788.926829</td>\n      <td>81000.0</td>\n      <td>143500.0</td>\n      <td>165000.0</td>\n      <td>194500.0</td>\n      <td>394617.0</td>\n    </tr>\n    <tr>\n      <th>FR3</th>\n      <td>4.0</td>\n      <td>208475.000000</td>\n      <td>78379.222374</td>\n      <td>128000.0</td>\n      <td>169925.0</td>\n      <td>195450.0</td>\n      <td>234000.0</td>\n      <td>315000.0</td>\n    </tr>\n    <tr>\n      <th>Inside</th>\n      <td>1052.0</td>\n      <td>176938.047529</td>\n      <td>76426.805787</td>\n      <td>34900.0</td>\n      <td>128000.0</td>\n      <td>159697.5</td>\n      <td>207125.0</td>\n      <td>611657.0</td>\n    </tr>\n  </tbody>\n</table>\n</div>"
     },
     "execution_count": 283,
     "metadata": {},
     "output_type": "execute_result"
    }
   ],
   "source": [
    "# LotConfig \n",
    "# 특성 제거 : min과 Max 차이 \n",
    "sale_price_by_column('LotConfig', True)"
   ],
   "metadata": {
    "collapsed": false,
    "ExecuteTime": {
     "end_time": "2024-06-29T08:46:09.637648Z",
     "start_time": "2024-06-29T08:46:09.627117Z"
    }
   },
   "id": "5e9b3c3862c9167d"
  },
  {
   "cell_type": "code",
   "execution_count": 284,
   "outputs": [
    {
     "data": {
      "text/plain": "          SalePrice                                                            \\\n              count           mean           std      min       25%       50%   \nLandSlope                                                                       \nGtl          1382.0  179956.799566  78669.369151  34900.0  129900.0  161875.0   \nMod            65.0  196734.138462  92375.358116  39300.0  130000.0  186700.0   \nSev            13.0  204379.230769  86729.922409  61000.0  143000.0  185000.0   \n\n                               \n                75%       max  \nLandSlope                      \nGtl        212000.0  755000.0  \nMod        259500.0  538000.0  \nSev        260000.0  375000.0  ",
      "text/html": "<div>\n<style scoped>\n    .dataframe tbody tr th:only-of-type {\n        vertical-align: middle;\n    }\n\n    .dataframe tbody tr th {\n        vertical-align: top;\n    }\n\n    .dataframe thead tr th {\n        text-align: left;\n    }\n\n    .dataframe thead tr:last-of-type th {\n        text-align: right;\n    }\n</style>\n<table border=\"1\" class=\"dataframe\">\n  <thead>\n    <tr>\n      <th></th>\n      <th colspan=\"8\" halign=\"left\">SalePrice</th>\n    </tr>\n    <tr>\n      <th></th>\n      <th>count</th>\n      <th>mean</th>\n      <th>std</th>\n      <th>min</th>\n      <th>25%</th>\n      <th>50%</th>\n      <th>75%</th>\n      <th>max</th>\n    </tr>\n    <tr>\n      <th>LandSlope</th>\n      <th></th>\n      <th></th>\n      <th></th>\n      <th></th>\n      <th></th>\n      <th></th>\n      <th></th>\n      <th></th>\n    </tr>\n  </thead>\n  <tbody>\n    <tr>\n      <th>Gtl</th>\n      <td>1382.0</td>\n      <td>179956.799566</td>\n      <td>78669.369151</td>\n      <td>34900.0</td>\n      <td>129900.0</td>\n      <td>161875.0</td>\n      <td>212000.0</td>\n      <td>755000.0</td>\n    </tr>\n    <tr>\n      <th>Mod</th>\n      <td>65.0</td>\n      <td>196734.138462</td>\n      <td>92375.358116</td>\n      <td>39300.0</td>\n      <td>130000.0</td>\n      <td>186700.0</td>\n      <td>259500.0</td>\n      <td>538000.0</td>\n    </tr>\n    <tr>\n      <th>Sev</th>\n      <td>13.0</td>\n      <td>204379.230769</td>\n      <td>86729.922409</td>\n      <td>61000.0</td>\n      <td>143000.0</td>\n      <td>185000.0</td>\n      <td>260000.0</td>\n      <td>375000.0</td>\n    </tr>\n  </tbody>\n</table>\n</div>"
     },
     "execution_count": 284,
     "metadata": {},
     "output_type": "execute_result"
    }
   ],
   "source": [
    "# LandSlope - 경사도\n",
    "# 특성 제거 : min과 Max 차이 \n",
    "sale_price_by_column('LandSlope', True)"
   ],
   "metadata": {
    "collapsed": false,
    "ExecuteTime": {
     "end_time": "2024-06-29T08:46:09.909716Z",
     "start_time": "2024-06-29T08:46:09.892086Z"
    }
   },
   "id": "5bf9d52a19342d4a"
  },
  {
   "cell_type": "code",
   "execution_count": 285,
   "outputs": [
    {
     "data": {
      "text/plain": "             SalePrice                                                     \\\n                 count           mean            std       min        25%   \nNeighborhood                                                                \nBlmngtn           17.0  194870.882353   30393.229219  159895.0  174000.00   \nBlueste            2.0  137500.000000   19091.883092  124000.0  130750.00   \nBrDale            16.0  104493.750000   14330.176493   83000.0   91000.00   \nBrkSide           58.0  124834.051724   40348.689270   39300.0  100500.00   \nClearCr           28.0  212565.428571   50231.538993  130000.0  183750.00   \nCollgCr          150.0  197965.773333   51403.666438  110000.0  152958.75   \nCrawfor           51.0  210624.725490   68866.395472   90350.0  159250.00   \nEdwards          100.0  128219.700000   43208.616459   58500.0  101500.00   \nGilbert           79.0  192854.506329   35986.779085  141000.0  174000.00   \nIDOTRR            37.0  100123.783784   33376.710117   34900.0   81000.00   \nMeadowV           17.0   98576.470588   23491.049610   75000.0   83500.00   \nMitchel           49.0  156270.122449   36486.625334   84500.0  131000.00   \nNAmes            225.0  145847.080000   33075.345450   87500.0  127500.00   \nNPkVill            9.0  142694.444444    9377.314529  127500.0  140000.00   \nNWAmes            73.0  189050.068493   37172.218106   82500.0  165150.00   \nNoRidge           41.0  335295.317073  121412.658640  190000.0  265000.00   \nNridgHt           77.0  316270.623377   96392.544954  154000.0  253293.00   \nOldTown          113.0  128225.300885   52650.583185   37900.0  105900.00   \nSWISU             25.0  142591.360000   32622.917679   60000.0  128000.00   \nSawyer            74.0  136793.135135   22345.129157   62383.0  127250.00   \nSawyerW           59.0  186555.796610   55651.997820   76000.0  145500.00   \nSomerst           86.0  225379.837209   56177.555888  144152.0  177975.00   \nStoneBr           25.0  310499.000000  112969.676640  170000.0  213500.00   \nTimber            38.0  242247.447368   64845.651549  137500.0  186900.00   \nVeenker           11.0  238772.727273   72369.317959  162500.0  184250.00   \n\n                                             \n                   50%        75%       max  \nNeighborhood                                 \nBlmngtn       191000.0  213490.00  264561.0  \nBlueste       137500.0  144250.00  151000.0  \nBrDale        106000.0  118000.00  125000.0  \nBrkSide       124300.0  141175.00  223500.0  \nClearCr       200250.0  242225.00  328000.0  \nCollgCr       197200.0  225725.00  424870.0  \nCrawfor       200624.0  239000.00  392500.0  \nEdwards       121750.0  145225.00  320000.0  \nGilbert       181000.0  197200.00  377500.0  \nIDOTRR        103000.0  120500.00  169500.0  \nMeadowV        88000.0  115000.00  151400.0  \nMitchel       153500.0  171000.00  271000.0  \nNAmes         140000.0  158000.00  345000.0  \nNPkVill       146000.0  148500.00  155000.0  \nNWAmes        182900.0  205000.00  299800.0  \nNoRidge       301500.0  341000.00  755000.0  \nNridgHt       315000.0  374000.00  611657.0  \nOldTown       119000.0  140000.00  475000.0  \nSWISU         139500.0  160000.00  200000.0  \nSawyer        135000.0  149462.50  190000.0  \nSawyerW       179900.0  222500.00  320000.0  \nSomerst       225500.0  252919.50  423000.0  \nStoneBr       278000.0  377426.00  556581.0  \nTimber        228475.0  286115.75  378500.0  \nVeenker       218000.0  282000.00  385000.0  ",
      "text/html": "<div>\n<style scoped>\n    .dataframe tbody tr th:only-of-type {\n        vertical-align: middle;\n    }\n\n    .dataframe tbody tr th {\n        vertical-align: top;\n    }\n\n    .dataframe thead tr th {\n        text-align: left;\n    }\n\n    .dataframe thead tr:last-of-type th {\n        text-align: right;\n    }\n</style>\n<table border=\"1\" class=\"dataframe\">\n  <thead>\n    <tr>\n      <th></th>\n      <th colspan=\"8\" halign=\"left\">SalePrice</th>\n    </tr>\n    <tr>\n      <th></th>\n      <th>count</th>\n      <th>mean</th>\n      <th>std</th>\n      <th>min</th>\n      <th>25%</th>\n      <th>50%</th>\n      <th>75%</th>\n      <th>max</th>\n    </tr>\n    <tr>\n      <th>Neighborhood</th>\n      <th></th>\n      <th></th>\n      <th></th>\n      <th></th>\n      <th></th>\n      <th></th>\n      <th></th>\n      <th></th>\n    </tr>\n  </thead>\n  <tbody>\n    <tr>\n      <th>Blmngtn</th>\n      <td>17.0</td>\n      <td>194870.882353</td>\n      <td>30393.229219</td>\n      <td>159895.0</td>\n      <td>174000.00</td>\n      <td>191000.0</td>\n      <td>213490.00</td>\n      <td>264561.0</td>\n    </tr>\n    <tr>\n      <th>Blueste</th>\n      <td>2.0</td>\n      <td>137500.000000</td>\n      <td>19091.883092</td>\n      <td>124000.0</td>\n      <td>130750.00</td>\n      <td>137500.0</td>\n      <td>144250.00</td>\n      <td>151000.0</td>\n    </tr>\n    <tr>\n      <th>BrDale</th>\n      <td>16.0</td>\n      <td>104493.750000</td>\n      <td>14330.176493</td>\n      <td>83000.0</td>\n      <td>91000.00</td>\n      <td>106000.0</td>\n      <td>118000.00</td>\n      <td>125000.0</td>\n    </tr>\n    <tr>\n      <th>BrkSide</th>\n      <td>58.0</td>\n      <td>124834.051724</td>\n      <td>40348.689270</td>\n      <td>39300.0</td>\n      <td>100500.00</td>\n      <td>124300.0</td>\n      <td>141175.00</td>\n      <td>223500.0</td>\n    </tr>\n    <tr>\n      <th>ClearCr</th>\n      <td>28.0</td>\n      <td>212565.428571</td>\n      <td>50231.538993</td>\n      <td>130000.0</td>\n      <td>183750.00</td>\n      <td>200250.0</td>\n      <td>242225.00</td>\n      <td>328000.0</td>\n    </tr>\n    <tr>\n      <th>CollgCr</th>\n      <td>150.0</td>\n      <td>197965.773333</td>\n      <td>51403.666438</td>\n      <td>110000.0</td>\n      <td>152958.75</td>\n      <td>197200.0</td>\n      <td>225725.00</td>\n      <td>424870.0</td>\n    </tr>\n    <tr>\n      <th>Crawfor</th>\n      <td>51.0</td>\n      <td>210624.725490</td>\n      <td>68866.395472</td>\n      <td>90350.0</td>\n      <td>159250.00</td>\n      <td>200624.0</td>\n      <td>239000.00</td>\n      <td>392500.0</td>\n    </tr>\n    <tr>\n      <th>Edwards</th>\n      <td>100.0</td>\n      <td>128219.700000</td>\n      <td>43208.616459</td>\n      <td>58500.0</td>\n      <td>101500.00</td>\n      <td>121750.0</td>\n      <td>145225.00</td>\n      <td>320000.0</td>\n    </tr>\n    <tr>\n      <th>Gilbert</th>\n      <td>79.0</td>\n      <td>192854.506329</td>\n      <td>35986.779085</td>\n      <td>141000.0</td>\n      <td>174000.00</td>\n      <td>181000.0</td>\n      <td>197200.00</td>\n      <td>377500.0</td>\n    </tr>\n    <tr>\n      <th>IDOTRR</th>\n      <td>37.0</td>\n      <td>100123.783784</td>\n      <td>33376.710117</td>\n      <td>34900.0</td>\n      <td>81000.00</td>\n      <td>103000.0</td>\n      <td>120500.00</td>\n      <td>169500.0</td>\n    </tr>\n    <tr>\n      <th>MeadowV</th>\n      <td>17.0</td>\n      <td>98576.470588</td>\n      <td>23491.049610</td>\n      <td>75000.0</td>\n      <td>83500.00</td>\n      <td>88000.0</td>\n      <td>115000.00</td>\n      <td>151400.0</td>\n    </tr>\n    <tr>\n      <th>Mitchel</th>\n      <td>49.0</td>\n      <td>156270.122449</td>\n      <td>36486.625334</td>\n      <td>84500.0</td>\n      <td>131000.00</td>\n      <td>153500.0</td>\n      <td>171000.00</td>\n      <td>271000.0</td>\n    </tr>\n    <tr>\n      <th>NAmes</th>\n      <td>225.0</td>\n      <td>145847.080000</td>\n      <td>33075.345450</td>\n      <td>87500.0</td>\n      <td>127500.00</td>\n      <td>140000.0</td>\n      <td>158000.00</td>\n      <td>345000.0</td>\n    </tr>\n    <tr>\n      <th>NPkVill</th>\n      <td>9.0</td>\n      <td>142694.444444</td>\n      <td>9377.314529</td>\n      <td>127500.0</td>\n      <td>140000.00</td>\n      <td>146000.0</td>\n      <td>148500.00</td>\n      <td>155000.0</td>\n    </tr>\n    <tr>\n      <th>NWAmes</th>\n      <td>73.0</td>\n      <td>189050.068493</td>\n      <td>37172.218106</td>\n      <td>82500.0</td>\n      <td>165150.00</td>\n      <td>182900.0</td>\n      <td>205000.00</td>\n      <td>299800.0</td>\n    </tr>\n    <tr>\n      <th>NoRidge</th>\n      <td>41.0</td>\n      <td>335295.317073</td>\n      <td>121412.658640</td>\n      <td>190000.0</td>\n      <td>265000.00</td>\n      <td>301500.0</td>\n      <td>341000.00</td>\n      <td>755000.0</td>\n    </tr>\n    <tr>\n      <th>NridgHt</th>\n      <td>77.0</td>\n      <td>316270.623377</td>\n      <td>96392.544954</td>\n      <td>154000.0</td>\n      <td>253293.00</td>\n      <td>315000.0</td>\n      <td>374000.00</td>\n      <td>611657.0</td>\n    </tr>\n    <tr>\n      <th>OldTown</th>\n      <td>113.0</td>\n      <td>128225.300885</td>\n      <td>52650.583185</td>\n      <td>37900.0</td>\n      <td>105900.00</td>\n      <td>119000.0</td>\n      <td>140000.00</td>\n      <td>475000.0</td>\n    </tr>\n    <tr>\n      <th>SWISU</th>\n      <td>25.0</td>\n      <td>142591.360000</td>\n      <td>32622.917679</td>\n      <td>60000.0</td>\n      <td>128000.00</td>\n      <td>139500.0</td>\n      <td>160000.00</td>\n      <td>200000.0</td>\n    </tr>\n    <tr>\n      <th>Sawyer</th>\n      <td>74.0</td>\n      <td>136793.135135</td>\n      <td>22345.129157</td>\n      <td>62383.0</td>\n      <td>127250.00</td>\n      <td>135000.0</td>\n      <td>149462.50</td>\n      <td>190000.0</td>\n    </tr>\n    <tr>\n      <th>SawyerW</th>\n      <td>59.0</td>\n      <td>186555.796610</td>\n      <td>55651.997820</td>\n      <td>76000.0</td>\n      <td>145500.00</td>\n      <td>179900.0</td>\n      <td>222500.00</td>\n      <td>320000.0</td>\n    </tr>\n    <tr>\n      <th>Somerst</th>\n      <td>86.0</td>\n      <td>225379.837209</td>\n      <td>56177.555888</td>\n      <td>144152.0</td>\n      <td>177975.00</td>\n      <td>225500.0</td>\n      <td>252919.50</td>\n      <td>423000.0</td>\n    </tr>\n    <tr>\n      <th>StoneBr</th>\n      <td>25.0</td>\n      <td>310499.000000</td>\n      <td>112969.676640</td>\n      <td>170000.0</td>\n      <td>213500.00</td>\n      <td>278000.0</td>\n      <td>377426.00</td>\n      <td>556581.0</td>\n    </tr>\n    <tr>\n      <th>Timber</th>\n      <td>38.0</td>\n      <td>242247.447368</td>\n      <td>64845.651549</td>\n      <td>137500.0</td>\n      <td>186900.00</td>\n      <td>228475.0</td>\n      <td>286115.75</td>\n      <td>378500.0</td>\n    </tr>\n    <tr>\n      <th>Veenker</th>\n      <td>11.0</td>\n      <td>238772.727273</td>\n      <td>72369.317959</td>\n      <td>162500.0</td>\n      <td>184250.00</td>\n      <td>218000.0</td>\n      <td>282000.00</td>\n      <td>385000.0</td>\n    </tr>\n  </tbody>\n</table>\n</div>"
     },
     "execution_count": 285,
     "metadata": {},
     "output_type": "execute_result"
    }
   ],
   "source": [
    "# Neighborhood - 중간값 확인해보면 max 가 높은 순으로 정렬돼있음 \n",
    "sale_price_by_column('Neighborhood')"
   ],
   "metadata": {
    "collapsed": false,
    "ExecuteTime": {
     "end_time": "2024-06-29T08:46:10.165955Z",
     "start_time": "2024-06-29T08:46:10.125472Z"
    }
   },
   "id": "38d9ecf496141394"
  },
  {
   "cell_type": "code",
   "execution_count": 286,
   "outputs": [
    {
     "data": {
      "text/plain": "           SalePrice                                                    \\\n               count           mean           std       min        25%   \nCondition1                                                               \nArtery          48.0  135091.666667  66226.660548   66500.0  105000.00   \nFeedr           81.0  142475.481481  42157.290117   40000.0  121600.00   \nNorm          1260.0  184495.492063  81256.980125   34900.0  131500.00   \nPosA             8.0  225875.000000  52348.932313  180000.0  188750.00   \nPosN            19.0  215184.210526  65256.536609  109500.0  167250.00   \nRRAe            11.0  138400.000000  24030.813553   87000.0  127750.00   \nRRAn            26.0  184396.615385  66177.922070   79500.0  152393.75   \nRRNe             2.0  190750.000000   5303.300859  187000.0  188875.00   \nRRNn             5.0  212400.000000  93823.238060  110000.0  128000.00   \n\n                                          \n                 50%       75%       max  \nCondition1                                \nArtery      119550.0  143000.0  475000.0  \nFeedr       140000.0  167500.0  244600.0  \nNorm        166500.0  219500.0  755000.0  \nPosA        212500.0  244000.0  335000.0  \nPosN        200000.0  252250.0  385000.0  \nRRAe        142500.0  156500.0  171000.0  \nRRAn        171495.0  190105.0  423000.0  \nRRNe        190750.0  192625.0  194500.0  \nRRNn        214000.0  290000.0  320000.0  ",
      "text/html": "<div>\n<style scoped>\n    .dataframe tbody tr th:only-of-type {\n        vertical-align: middle;\n    }\n\n    .dataframe tbody tr th {\n        vertical-align: top;\n    }\n\n    .dataframe thead tr th {\n        text-align: left;\n    }\n\n    .dataframe thead tr:last-of-type th {\n        text-align: right;\n    }\n</style>\n<table border=\"1\" class=\"dataframe\">\n  <thead>\n    <tr>\n      <th></th>\n      <th colspan=\"8\" halign=\"left\">SalePrice</th>\n    </tr>\n    <tr>\n      <th></th>\n      <th>count</th>\n      <th>mean</th>\n      <th>std</th>\n      <th>min</th>\n      <th>25%</th>\n      <th>50%</th>\n      <th>75%</th>\n      <th>max</th>\n    </tr>\n    <tr>\n      <th>Condition1</th>\n      <th></th>\n      <th></th>\n      <th></th>\n      <th></th>\n      <th></th>\n      <th></th>\n      <th></th>\n      <th></th>\n    </tr>\n  </thead>\n  <tbody>\n    <tr>\n      <th>Artery</th>\n      <td>48.0</td>\n      <td>135091.666667</td>\n      <td>66226.660548</td>\n      <td>66500.0</td>\n      <td>105000.00</td>\n      <td>119550.0</td>\n      <td>143000.0</td>\n      <td>475000.0</td>\n    </tr>\n    <tr>\n      <th>Feedr</th>\n      <td>81.0</td>\n      <td>142475.481481</td>\n      <td>42157.290117</td>\n      <td>40000.0</td>\n      <td>121600.00</td>\n      <td>140000.0</td>\n      <td>167500.0</td>\n      <td>244600.0</td>\n    </tr>\n    <tr>\n      <th>Norm</th>\n      <td>1260.0</td>\n      <td>184495.492063</td>\n      <td>81256.980125</td>\n      <td>34900.0</td>\n      <td>131500.00</td>\n      <td>166500.0</td>\n      <td>219500.0</td>\n      <td>755000.0</td>\n    </tr>\n    <tr>\n      <th>PosA</th>\n      <td>8.0</td>\n      <td>225875.000000</td>\n      <td>52348.932313</td>\n      <td>180000.0</td>\n      <td>188750.00</td>\n      <td>212500.0</td>\n      <td>244000.0</td>\n      <td>335000.0</td>\n    </tr>\n    <tr>\n      <th>PosN</th>\n      <td>19.0</td>\n      <td>215184.210526</td>\n      <td>65256.536609</td>\n      <td>109500.0</td>\n      <td>167250.00</td>\n      <td>200000.0</td>\n      <td>252250.0</td>\n      <td>385000.0</td>\n    </tr>\n    <tr>\n      <th>RRAe</th>\n      <td>11.0</td>\n      <td>138400.000000</td>\n      <td>24030.813553</td>\n      <td>87000.0</td>\n      <td>127750.00</td>\n      <td>142500.0</td>\n      <td>156500.0</td>\n      <td>171000.0</td>\n    </tr>\n    <tr>\n      <th>RRAn</th>\n      <td>26.0</td>\n      <td>184396.615385</td>\n      <td>66177.922070</td>\n      <td>79500.0</td>\n      <td>152393.75</td>\n      <td>171495.0</td>\n      <td>190105.0</td>\n      <td>423000.0</td>\n    </tr>\n    <tr>\n      <th>RRNe</th>\n      <td>2.0</td>\n      <td>190750.000000</td>\n      <td>5303.300859</td>\n      <td>187000.0</td>\n      <td>188875.00</td>\n      <td>190750.0</td>\n      <td>192625.0</td>\n      <td>194500.0</td>\n    </tr>\n    <tr>\n      <th>RRNn</th>\n      <td>5.0</td>\n      <td>212400.000000</td>\n      <td>93823.238060</td>\n      <td>110000.0</td>\n      <td>128000.00</td>\n      <td>214000.0</td>\n      <td>290000.0</td>\n      <td>320000.0</td>\n    </tr>\n  </tbody>\n</table>\n</div>"
     },
     "execution_count": 286,
     "metadata": {},
     "output_type": "execute_result"
    }
   ],
   "source": [
    "# Condition1 \n",
    "# 특성 제거 : 중간값 및 max 값 랭크가 불일치\n",
    "sale_price_by_column('Condition1', True)"
   ],
   "metadata": {
    "collapsed": false,
    "ExecuteTime": {
     "end_time": "2024-06-29T08:46:10.392765Z",
     "start_time": "2024-06-29T08:46:10.367185Z"
    }
   },
   "id": "daf79039fa405b77"
  },
  {
   "cell_type": "code",
   "execution_count": 287,
   "outputs": [
    {
     "data": {
      "text/plain": "           SalePrice                                                    \\\n               count           mean            std       min       25%   \nCondition2                                                               \nArtery           2.0  106500.000000   16263.455967   95000.0  100750.0   \nFeedr            6.0  121166.666667   33544.994659   79500.0   95500.0   \nNorm          1445.0  181169.405536   79337.735547   34900.0  130000.0   \nPosA             1.0  325000.000000            NaN  325000.0  325000.0   \nPosN             2.0  284875.000000  141598.132933  184750.0  234812.5   \nRRAe             1.0  190000.000000            NaN  190000.0  190000.0   \nRRAn             1.0  136905.000000            NaN  136905.0  136905.0   \nRRNn             2.0   96750.000000   39951.533137   68500.0   82625.0   \n\n                                          \n                 50%       75%       max  \nCondition2                                \nArtery      106500.0  112250.0  118000.0  \nFeedr       127500.0  137000.0  167500.0  \nNorm        163500.0  214000.0  755000.0  \nPosA        325000.0  325000.0  325000.0  \nPosN        284875.0  334937.5  385000.0  \nRRAe        190000.0  190000.0  190000.0  \nRRAn        136905.0  136905.0  136905.0  \nRRNn         96750.0  110875.0  125000.0  ",
      "text/html": "<div>\n<style scoped>\n    .dataframe tbody tr th:only-of-type {\n        vertical-align: middle;\n    }\n\n    .dataframe tbody tr th {\n        vertical-align: top;\n    }\n\n    .dataframe thead tr th {\n        text-align: left;\n    }\n\n    .dataframe thead tr:last-of-type th {\n        text-align: right;\n    }\n</style>\n<table border=\"1\" class=\"dataframe\">\n  <thead>\n    <tr>\n      <th></th>\n      <th colspan=\"8\" halign=\"left\">SalePrice</th>\n    </tr>\n    <tr>\n      <th></th>\n      <th>count</th>\n      <th>mean</th>\n      <th>std</th>\n      <th>min</th>\n      <th>25%</th>\n      <th>50%</th>\n      <th>75%</th>\n      <th>max</th>\n    </tr>\n    <tr>\n      <th>Condition2</th>\n      <th></th>\n      <th></th>\n      <th></th>\n      <th></th>\n      <th></th>\n      <th></th>\n      <th></th>\n      <th></th>\n    </tr>\n  </thead>\n  <tbody>\n    <tr>\n      <th>Artery</th>\n      <td>2.0</td>\n      <td>106500.000000</td>\n      <td>16263.455967</td>\n      <td>95000.0</td>\n      <td>100750.0</td>\n      <td>106500.0</td>\n      <td>112250.0</td>\n      <td>118000.0</td>\n    </tr>\n    <tr>\n      <th>Feedr</th>\n      <td>6.0</td>\n      <td>121166.666667</td>\n      <td>33544.994659</td>\n      <td>79500.0</td>\n      <td>95500.0</td>\n      <td>127500.0</td>\n      <td>137000.0</td>\n      <td>167500.0</td>\n    </tr>\n    <tr>\n      <th>Norm</th>\n      <td>1445.0</td>\n      <td>181169.405536</td>\n      <td>79337.735547</td>\n      <td>34900.0</td>\n      <td>130000.0</td>\n      <td>163500.0</td>\n      <td>214000.0</td>\n      <td>755000.0</td>\n    </tr>\n    <tr>\n      <th>PosA</th>\n      <td>1.0</td>\n      <td>325000.000000</td>\n      <td>NaN</td>\n      <td>325000.0</td>\n      <td>325000.0</td>\n      <td>325000.0</td>\n      <td>325000.0</td>\n      <td>325000.0</td>\n    </tr>\n    <tr>\n      <th>PosN</th>\n      <td>2.0</td>\n      <td>284875.000000</td>\n      <td>141598.132933</td>\n      <td>184750.0</td>\n      <td>234812.5</td>\n      <td>284875.0</td>\n      <td>334937.5</td>\n      <td>385000.0</td>\n    </tr>\n    <tr>\n      <th>RRAe</th>\n      <td>1.0</td>\n      <td>190000.000000</td>\n      <td>NaN</td>\n      <td>190000.0</td>\n      <td>190000.0</td>\n      <td>190000.0</td>\n      <td>190000.0</td>\n      <td>190000.0</td>\n    </tr>\n    <tr>\n      <th>RRAn</th>\n      <td>1.0</td>\n      <td>136905.000000</td>\n      <td>NaN</td>\n      <td>136905.0</td>\n      <td>136905.0</td>\n      <td>136905.0</td>\n      <td>136905.0</td>\n      <td>136905.0</td>\n    </tr>\n    <tr>\n      <th>RRNn</th>\n      <td>2.0</td>\n      <td>96750.000000</td>\n      <td>39951.533137</td>\n      <td>68500.0</td>\n      <td>82625.0</td>\n      <td>96750.0</td>\n      <td>110875.0</td>\n      <td>125000.0</td>\n    </tr>\n  </tbody>\n</table>\n</div>"
     },
     "execution_count": 287,
     "metadata": {},
     "output_type": "execute_result"
    }
   ],
   "source": [
    "# Condition2 \n",
    "# 특성 제거 : Norm 제외 개수가 너무 없음 \n",
    "sale_price_by_column('Condition2', True)"
   ],
   "metadata": {
    "collapsed": false,
    "ExecuteTime": {
     "end_time": "2024-06-29T08:46:10.629767Z",
     "start_time": "2024-06-29T08:46:10.613199Z"
    }
   },
   "id": "90034e67055501f"
  },
  {
   "cell_type": "code",
   "execution_count": 288,
   "outputs": [
    {
     "data": {
      "text/plain": "         SalePrice                                                            \\\n             count           mean           std      min       25%       50%   \nBldgType                                                                       \n1Fam        1220.0  185763.807377  82648.502922  34900.0  131475.0  167900.0   \n2fmCon        31.0  128432.258065  35458.545158  55000.0  106875.0  127500.0   \nDuplex        52.0  133541.076923  27833.249197  82000.0  118375.0  135980.0   \nTwnhs         43.0  135911.627907  41013.222080  75000.0   95750.0  137500.0   \nTwnhsE       114.0  181959.342105  60626.108918  75500.0  143187.5  172200.0   \n\n                              \n               75%       max  \nBldgType                      \n1Fam      222000.0  755000.0  \n2fmCon    142500.0  228950.0  \nDuplex    145000.0  206300.0  \nTwnhs     168750.0  230000.0  \nTwnhsE    207375.0  392500.0  ",
      "text/html": "<div>\n<style scoped>\n    .dataframe tbody tr th:only-of-type {\n        vertical-align: middle;\n    }\n\n    .dataframe tbody tr th {\n        vertical-align: top;\n    }\n\n    .dataframe thead tr th {\n        text-align: left;\n    }\n\n    .dataframe thead tr:last-of-type th {\n        text-align: right;\n    }\n</style>\n<table border=\"1\" class=\"dataframe\">\n  <thead>\n    <tr>\n      <th></th>\n      <th colspan=\"8\" halign=\"left\">SalePrice</th>\n    </tr>\n    <tr>\n      <th></th>\n      <th>count</th>\n      <th>mean</th>\n      <th>std</th>\n      <th>min</th>\n      <th>25%</th>\n      <th>50%</th>\n      <th>75%</th>\n      <th>max</th>\n    </tr>\n    <tr>\n      <th>BldgType</th>\n      <th></th>\n      <th></th>\n      <th></th>\n      <th></th>\n      <th></th>\n      <th></th>\n      <th></th>\n      <th></th>\n    </tr>\n  </thead>\n  <tbody>\n    <tr>\n      <th>1Fam</th>\n      <td>1220.0</td>\n      <td>185763.807377</td>\n      <td>82648.502922</td>\n      <td>34900.0</td>\n      <td>131475.0</td>\n      <td>167900.0</td>\n      <td>222000.0</td>\n      <td>755000.0</td>\n    </tr>\n    <tr>\n      <th>2fmCon</th>\n      <td>31.0</td>\n      <td>128432.258065</td>\n      <td>35458.545158</td>\n      <td>55000.0</td>\n      <td>106875.0</td>\n      <td>127500.0</td>\n      <td>142500.0</td>\n      <td>228950.0</td>\n    </tr>\n    <tr>\n      <th>Duplex</th>\n      <td>52.0</td>\n      <td>133541.076923</td>\n      <td>27833.249197</td>\n      <td>82000.0</td>\n      <td>118375.0</td>\n      <td>135980.0</td>\n      <td>145000.0</td>\n      <td>206300.0</td>\n    </tr>\n    <tr>\n      <th>Twnhs</th>\n      <td>43.0</td>\n      <td>135911.627907</td>\n      <td>41013.222080</td>\n      <td>75000.0</td>\n      <td>95750.0</td>\n      <td>137500.0</td>\n      <td>168750.0</td>\n      <td>230000.0</td>\n    </tr>\n    <tr>\n      <th>TwnhsE</th>\n      <td>114.0</td>\n      <td>181959.342105</td>\n      <td>60626.108918</td>\n      <td>75500.0</td>\n      <td>143187.5</td>\n      <td>172200.0</td>\n      <td>207375.0</td>\n      <td>392500.0</td>\n    </tr>\n  </tbody>\n</table>\n</div>"
     },
     "execution_count": 288,
     "metadata": {},
     "output_type": "execute_result"
    }
   ],
   "source": [
    "# BldgType -\n",
    "sale_price_by_column('BldgType')"
   ],
   "metadata": {
    "collapsed": false,
    "ExecuteTime": {
     "end_time": "2024-06-29T08:46:10.886864Z",
     "start_time": "2024-06-29T08:46:10.870090Z"
    }
   },
   "id": "cb58185656cc7fc"
  },
  {
   "cell_type": "code",
   "execution_count": 289,
   "outputs": [
    {
     "data": {
      "text/plain": "           SalePrice                                                    \\\n               count           mean            std       min       25%   \nHouseStyle                                                               \n1.5Fin         154.0  143116.740260   54277.941119   37900.0  114625.0   \n1.5Unf          14.0  110150.000000   19036.473090   76000.0   98175.0   \n1Story         726.0  175985.477961   77055.715011   34900.0  127000.0   \n2.5Fin           8.0  220000.000000  118211.976671  104000.0  164250.0   \n2.5Unf          11.0  157354.545455   63934.128032  101000.0  125000.0   \n2Story         445.0  210051.764045   87339.213570   40000.0  159500.0   \nSFoyer          37.0  135074.486486   30480.898192   75500.0  127500.0   \nSLvl            65.0  166703.384615   38305.161339   91000.0  145000.0   \n\n                                          \n                 50%       75%       max  \nHouseStyle                                \n1.5Fin      132000.0  159325.5  410000.0  \n1.5Unf      111250.0  120500.0  139400.0  \n1Story      154750.0  209350.0  611657.0  \n2.5Fin      194000.0  223750.0  475000.0  \n2.5Unf      133900.0  163500.0  325000.0  \n2Story      190000.0  240000.0  755000.0  \nSFoyer      135960.0  148000.0  206300.0  \nSLvl        164500.0  178000.0  345000.0  ",
      "text/html": "<div>\n<style scoped>\n    .dataframe tbody tr th:only-of-type {\n        vertical-align: middle;\n    }\n\n    .dataframe tbody tr th {\n        vertical-align: top;\n    }\n\n    .dataframe thead tr th {\n        text-align: left;\n    }\n\n    .dataframe thead tr:last-of-type th {\n        text-align: right;\n    }\n</style>\n<table border=\"1\" class=\"dataframe\">\n  <thead>\n    <tr>\n      <th></th>\n      <th colspan=\"8\" halign=\"left\">SalePrice</th>\n    </tr>\n    <tr>\n      <th></th>\n      <th>count</th>\n      <th>mean</th>\n      <th>std</th>\n      <th>min</th>\n      <th>25%</th>\n      <th>50%</th>\n      <th>75%</th>\n      <th>max</th>\n    </tr>\n    <tr>\n      <th>HouseStyle</th>\n      <th></th>\n      <th></th>\n      <th></th>\n      <th></th>\n      <th></th>\n      <th></th>\n      <th></th>\n      <th></th>\n    </tr>\n  </thead>\n  <tbody>\n    <tr>\n      <th>1.5Fin</th>\n      <td>154.0</td>\n      <td>143116.740260</td>\n      <td>54277.941119</td>\n      <td>37900.0</td>\n      <td>114625.0</td>\n      <td>132000.0</td>\n      <td>159325.5</td>\n      <td>410000.0</td>\n    </tr>\n    <tr>\n      <th>1.5Unf</th>\n      <td>14.0</td>\n      <td>110150.000000</td>\n      <td>19036.473090</td>\n      <td>76000.0</td>\n      <td>98175.0</td>\n      <td>111250.0</td>\n      <td>120500.0</td>\n      <td>139400.0</td>\n    </tr>\n    <tr>\n      <th>1Story</th>\n      <td>726.0</td>\n      <td>175985.477961</td>\n      <td>77055.715011</td>\n      <td>34900.0</td>\n      <td>127000.0</td>\n      <td>154750.0</td>\n      <td>209350.0</td>\n      <td>611657.0</td>\n    </tr>\n    <tr>\n      <th>2.5Fin</th>\n      <td>8.0</td>\n      <td>220000.000000</td>\n      <td>118211.976671</td>\n      <td>104000.0</td>\n      <td>164250.0</td>\n      <td>194000.0</td>\n      <td>223750.0</td>\n      <td>475000.0</td>\n    </tr>\n    <tr>\n      <th>2.5Unf</th>\n      <td>11.0</td>\n      <td>157354.545455</td>\n      <td>63934.128032</td>\n      <td>101000.0</td>\n      <td>125000.0</td>\n      <td>133900.0</td>\n      <td>163500.0</td>\n      <td>325000.0</td>\n    </tr>\n    <tr>\n      <th>2Story</th>\n      <td>445.0</td>\n      <td>210051.764045</td>\n      <td>87339.213570</td>\n      <td>40000.0</td>\n      <td>159500.0</td>\n      <td>190000.0</td>\n      <td>240000.0</td>\n      <td>755000.0</td>\n    </tr>\n    <tr>\n      <th>SFoyer</th>\n      <td>37.0</td>\n      <td>135074.486486</td>\n      <td>30480.898192</td>\n      <td>75500.0</td>\n      <td>127500.0</td>\n      <td>135960.0</td>\n      <td>148000.0</td>\n      <td>206300.0</td>\n    </tr>\n    <tr>\n      <th>SLvl</th>\n      <td>65.0</td>\n      <td>166703.384615</td>\n      <td>38305.161339</td>\n      <td>91000.0</td>\n      <td>145000.0</td>\n      <td>164500.0</td>\n      <td>178000.0</td>\n      <td>345000.0</td>\n    </tr>\n  </tbody>\n</table>\n</div>"
     },
     "execution_count": 289,
     "metadata": {},
     "output_type": "execute_result"
    }
   ],
   "source": [
    "# HouseStyle - \n",
    "sale_price_by_column('HouseStyle')"
   ],
   "metadata": {
    "collapsed": false,
    "ExecuteTime": {
     "end_time": "2024-06-29T08:46:11.129039Z",
     "start_time": "2024-06-29T08:46:11.111621Z"
    }
   },
   "id": "b728d366bea4608"
  },
  {
   "cell_type": "code",
   "execution_count": 290,
   "outputs": [
    {
     "data": {
      "text/plain": "          SalePrice                                                    \\\n              count           mean            std       min       25%   \nRoofStyle                                                               \nFlat           13.0  194690.000000   62522.963515   82000.0  143000.0   \nGable        1141.0  171483.956179   66331.237296   34900.0  128000.0   \nGambrel        11.0  148909.090909   67013.527807   40000.0  105500.0   \nHip           286.0  218876.933566  111549.603563   55000.0  139675.0   \nMansard         7.0  180568.428571   58057.624627  100000.0  145500.0   \nShed            2.0  225000.000000   49497.474683  190000.0  207500.0   \n\n                                         \n                50%       75%       max  \nRoofStyle                                \nFlat       185000.0  242000.0  274970.0  \nGable      160000.0  202500.0  755000.0  \nGambrel    139000.0  193750.0  259500.0  \nHip        176500.0  277875.0  745000.0  \nMansard    175000.0  216000.0  265979.0  \nShed       225000.0  242500.0  260000.0  ",
      "text/html": "<div>\n<style scoped>\n    .dataframe tbody tr th:only-of-type {\n        vertical-align: middle;\n    }\n\n    .dataframe tbody tr th {\n        vertical-align: top;\n    }\n\n    .dataframe thead tr th {\n        text-align: left;\n    }\n\n    .dataframe thead tr:last-of-type th {\n        text-align: right;\n    }\n</style>\n<table border=\"1\" class=\"dataframe\">\n  <thead>\n    <tr>\n      <th></th>\n      <th colspan=\"8\" halign=\"left\">SalePrice</th>\n    </tr>\n    <tr>\n      <th></th>\n      <th>count</th>\n      <th>mean</th>\n      <th>std</th>\n      <th>min</th>\n      <th>25%</th>\n      <th>50%</th>\n      <th>75%</th>\n      <th>max</th>\n    </tr>\n    <tr>\n      <th>RoofStyle</th>\n      <th></th>\n      <th></th>\n      <th></th>\n      <th></th>\n      <th></th>\n      <th></th>\n      <th></th>\n      <th></th>\n    </tr>\n  </thead>\n  <tbody>\n    <tr>\n      <th>Flat</th>\n      <td>13.0</td>\n      <td>194690.000000</td>\n      <td>62522.963515</td>\n      <td>82000.0</td>\n      <td>143000.0</td>\n      <td>185000.0</td>\n      <td>242000.0</td>\n      <td>274970.0</td>\n    </tr>\n    <tr>\n      <th>Gable</th>\n      <td>1141.0</td>\n      <td>171483.956179</td>\n      <td>66331.237296</td>\n      <td>34900.0</td>\n      <td>128000.0</td>\n      <td>160000.0</td>\n      <td>202500.0</td>\n      <td>755000.0</td>\n    </tr>\n    <tr>\n      <th>Gambrel</th>\n      <td>11.0</td>\n      <td>148909.090909</td>\n      <td>67013.527807</td>\n      <td>40000.0</td>\n      <td>105500.0</td>\n      <td>139000.0</td>\n      <td>193750.0</td>\n      <td>259500.0</td>\n    </tr>\n    <tr>\n      <th>Hip</th>\n      <td>286.0</td>\n      <td>218876.933566</td>\n      <td>111549.603563</td>\n      <td>55000.0</td>\n      <td>139675.0</td>\n      <td>176500.0</td>\n      <td>277875.0</td>\n      <td>745000.0</td>\n    </tr>\n    <tr>\n      <th>Mansard</th>\n      <td>7.0</td>\n      <td>180568.428571</td>\n      <td>58057.624627</td>\n      <td>100000.0</td>\n      <td>145500.0</td>\n      <td>175000.0</td>\n      <td>216000.0</td>\n      <td>265979.0</td>\n    </tr>\n    <tr>\n      <th>Shed</th>\n      <td>2.0</td>\n      <td>225000.000000</td>\n      <td>49497.474683</td>\n      <td>190000.0</td>\n      <td>207500.0</td>\n      <td>225000.0</td>\n      <td>242500.0</td>\n      <td>260000.0</td>\n    </tr>\n  </tbody>\n</table>\n</div>"
     },
     "execution_count": 290,
     "metadata": {},
     "output_type": "execute_result"
    }
   ],
   "source": [
    "# RoofStyle\n",
    "# 특성 제거 : min과 Max 차이 \n",
    "sale_price_by_column('RoofStyle', True)"
   ],
   "metadata": {
    "collapsed": false,
    "ExecuteTime": {
     "end_time": "2024-06-29T08:46:11.455897Z",
     "start_time": "2024-06-29T08:46:11.410608Z"
    }
   },
   "id": "7bb0f594407bc29"
  },
  {
   "cell_type": "code",
   "execution_count": 291,
   "outputs": [
    {
     "data": {
      "text/plain": "         SalePrice                                                    \\\n             count           mean            std       min       25%   \nRoofMatl                                                               \nClyTile        1.0  160000.000000            NaN  160000.0  160000.0   \nCompShg     1434.0  179803.679219   77722.388636   34900.0  129900.0   \nMembran        1.0  241500.000000            NaN  241500.0  241500.0   \nMetal          1.0  180000.000000            NaN  180000.0  180000.0   \nRoll           1.0  137000.000000            NaN  137000.0  137000.0   \nTar&Grv       11.0  185406.363636   65430.141720   82000.0  136000.0   \nWdShake        5.0  241400.000000   36218.779659  190000.0  228000.0   \nWdShngl        6.0  390250.000000  206969.019421  168500.0  278500.0   \n\n                                        \n               50%       75%       max  \nRoofMatl                                \nClyTile   160000.0  160000.0  160000.0  \nCompShg   162000.0  213000.0  745000.0  \nMembran   241500.0  241500.0  241500.0  \nMetal     180000.0  180000.0  180000.0  \nRoll      137000.0  137000.0  137000.0  \nTar&Grv   167000.0  249000.0  274970.0  \nWdShake   242000.0  260000.0  287000.0  \nWdShngl   332500.0  452500.0  755000.0  ",
      "text/html": "<div>\n<style scoped>\n    .dataframe tbody tr th:only-of-type {\n        vertical-align: middle;\n    }\n\n    .dataframe tbody tr th {\n        vertical-align: top;\n    }\n\n    .dataframe thead tr th {\n        text-align: left;\n    }\n\n    .dataframe thead tr:last-of-type th {\n        text-align: right;\n    }\n</style>\n<table border=\"1\" class=\"dataframe\">\n  <thead>\n    <tr>\n      <th></th>\n      <th colspan=\"8\" halign=\"left\">SalePrice</th>\n    </tr>\n    <tr>\n      <th></th>\n      <th>count</th>\n      <th>mean</th>\n      <th>std</th>\n      <th>min</th>\n      <th>25%</th>\n      <th>50%</th>\n      <th>75%</th>\n      <th>max</th>\n    </tr>\n    <tr>\n      <th>RoofMatl</th>\n      <th></th>\n      <th></th>\n      <th></th>\n      <th></th>\n      <th></th>\n      <th></th>\n      <th></th>\n      <th></th>\n    </tr>\n  </thead>\n  <tbody>\n    <tr>\n      <th>ClyTile</th>\n      <td>1.0</td>\n      <td>160000.000000</td>\n      <td>NaN</td>\n      <td>160000.0</td>\n      <td>160000.0</td>\n      <td>160000.0</td>\n      <td>160000.0</td>\n      <td>160000.0</td>\n    </tr>\n    <tr>\n      <th>CompShg</th>\n      <td>1434.0</td>\n      <td>179803.679219</td>\n      <td>77722.388636</td>\n      <td>34900.0</td>\n      <td>129900.0</td>\n      <td>162000.0</td>\n      <td>213000.0</td>\n      <td>745000.0</td>\n    </tr>\n    <tr>\n      <th>Membran</th>\n      <td>1.0</td>\n      <td>241500.000000</td>\n      <td>NaN</td>\n      <td>241500.0</td>\n      <td>241500.0</td>\n      <td>241500.0</td>\n      <td>241500.0</td>\n      <td>241500.0</td>\n    </tr>\n    <tr>\n      <th>Metal</th>\n      <td>1.0</td>\n      <td>180000.000000</td>\n      <td>NaN</td>\n      <td>180000.0</td>\n      <td>180000.0</td>\n      <td>180000.0</td>\n      <td>180000.0</td>\n      <td>180000.0</td>\n    </tr>\n    <tr>\n      <th>Roll</th>\n      <td>1.0</td>\n      <td>137000.000000</td>\n      <td>NaN</td>\n      <td>137000.0</td>\n      <td>137000.0</td>\n      <td>137000.0</td>\n      <td>137000.0</td>\n      <td>137000.0</td>\n    </tr>\n    <tr>\n      <th>Tar&amp;Grv</th>\n      <td>11.0</td>\n      <td>185406.363636</td>\n      <td>65430.141720</td>\n      <td>82000.0</td>\n      <td>136000.0</td>\n      <td>167000.0</td>\n      <td>249000.0</td>\n      <td>274970.0</td>\n    </tr>\n    <tr>\n      <th>WdShake</th>\n      <td>5.0</td>\n      <td>241400.000000</td>\n      <td>36218.779659</td>\n      <td>190000.0</td>\n      <td>228000.0</td>\n      <td>242000.0</td>\n      <td>260000.0</td>\n      <td>287000.0</td>\n    </tr>\n    <tr>\n      <th>WdShngl</th>\n      <td>6.0</td>\n      <td>390250.000000</td>\n      <td>206969.019421</td>\n      <td>168500.0</td>\n      <td>278500.0</td>\n      <td>332500.0</td>\n      <td>452500.0</td>\n      <td>755000.0</td>\n    </tr>\n  </tbody>\n</table>\n</div>"
     },
     "execution_count": 291,
     "metadata": {},
     "output_type": "execute_result"
    }
   ],
   "source": [
    "# RoofMatl\n",
    "# 특성 제거 : WdShngl 제외 개수가 너무 없음 \n",
    "sale_price_by_column('RoofMatl', True)"
   ],
   "metadata": {
    "collapsed": false,
    "ExecuteTime": {
     "end_time": "2024-06-29T08:46:11.639824Z",
     "start_time": "2024-06-29T08:46:11.624427Z"
    }
   },
   "id": "73fc8cc811efb4b2"
  },
  {
   "cell_type": "code",
   "execution_count": 292,
   "outputs": [
    {
     "data": {
      "text/plain": "            SalePrice                                                    \\\n                count           mean            std       min       25%   \nExterior1st                                                               \nAsbShng          20.0  107385.550000   33756.480660   35311.0   85750.0   \nAsphShn           1.0  100000.000000            NaN  100000.0  100000.0   \nBrkComm           2.0   71000.000000   15556.349186   60000.0   65500.0   \nBrkFace          50.0  194573.000000   82841.914370   40000.0  134525.0   \nCBlock            1.0  105000.000000            NaN  105000.0  105000.0   \nCemntBd          61.0  231690.655738  120575.621318   75000.0  119500.0   \nHdBoard         222.0  163077.450450   66305.714164   83000.0  129625.0   \nImStucc           1.0  262000.000000            NaN  262000.0  262000.0   \nMetalSd         220.0  149422.177273   54776.408990   62383.0  117750.0   \nPlywood         108.0  175942.379630   49497.383293   82500.0  143437.5   \nStone             2.0  258500.000000   40305.086528  230000.0  244250.0   \nStucco           25.0  162990.000000   83307.246529   58500.0  116000.0   \nVinylSd         515.0  213732.900971   80646.975785   37900.0  160000.0   \nWd Sdng         206.0  149841.645631   71130.448152   34900.0  112625.0   \nWdShing          26.0  150655.076923   72507.530741   87000.0  109750.0   \n\n                                           \n                  50%       75%       max  \nExterior1st                                \nAsbShng      108000.0  133500.0  165500.0  \nAsphShn      100000.0  100000.0  100000.0  \nBrkComm       71000.0   76500.0   82000.0  \nBrkFace      165750.0  245125.0  430000.0  \nCBlock       105000.0  105000.0  105000.0  \nCemntBd      236500.0  303477.0  556581.0  \nHdBoard      149900.0  179900.0  755000.0  \nImStucc      262000.0  262000.0  262000.0  \nMetalSd      139000.0  164775.0  392000.0  \nPlywood      167450.0  197500.0  345000.0  \nStone        258500.0  272750.0  287000.0  \nStucco       144000.0  188700.0  381000.0  \nVinylSd      200000.0  248614.0  611657.0  \nWd Sdng      138943.5  167250.0  745000.0  \nWdShing      128700.0  160250.0  385000.0  ",
      "text/html": "<div>\n<style scoped>\n    .dataframe tbody tr th:only-of-type {\n        vertical-align: middle;\n    }\n\n    .dataframe tbody tr th {\n        vertical-align: top;\n    }\n\n    .dataframe thead tr th {\n        text-align: left;\n    }\n\n    .dataframe thead tr:last-of-type th {\n        text-align: right;\n    }\n</style>\n<table border=\"1\" class=\"dataframe\">\n  <thead>\n    <tr>\n      <th></th>\n      <th colspan=\"8\" halign=\"left\">SalePrice</th>\n    </tr>\n    <tr>\n      <th></th>\n      <th>count</th>\n      <th>mean</th>\n      <th>std</th>\n      <th>min</th>\n      <th>25%</th>\n      <th>50%</th>\n      <th>75%</th>\n      <th>max</th>\n    </tr>\n    <tr>\n      <th>Exterior1st</th>\n      <th></th>\n      <th></th>\n      <th></th>\n      <th></th>\n      <th></th>\n      <th></th>\n      <th></th>\n      <th></th>\n    </tr>\n  </thead>\n  <tbody>\n    <tr>\n      <th>AsbShng</th>\n      <td>20.0</td>\n      <td>107385.550000</td>\n      <td>33756.480660</td>\n      <td>35311.0</td>\n      <td>85750.0</td>\n      <td>108000.0</td>\n      <td>133500.0</td>\n      <td>165500.0</td>\n    </tr>\n    <tr>\n      <th>AsphShn</th>\n      <td>1.0</td>\n      <td>100000.000000</td>\n      <td>NaN</td>\n      <td>100000.0</td>\n      <td>100000.0</td>\n      <td>100000.0</td>\n      <td>100000.0</td>\n      <td>100000.0</td>\n    </tr>\n    <tr>\n      <th>BrkComm</th>\n      <td>2.0</td>\n      <td>71000.000000</td>\n      <td>15556.349186</td>\n      <td>60000.0</td>\n      <td>65500.0</td>\n      <td>71000.0</td>\n      <td>76500.0</td>\n      <td>82000.0</td>\n    </tr>\n    <tr>\n      <th>BrkFace</th>\n      <td>50.0</td>\n      <td>194573.000000</td>\n      <td>82841.914370</td>\n      <td>40000.0</td>\n      <td>134525.0</td>\n      <td>165750.0</td>\n      <td>245125.0</td>\n      <td>430000.0</td>\n    </tr>\n    <tr>\n      <th>CBlock</th>\n      <td>1.0</td>\n      <td>105000.000000</td>\n      <td>NaN</td>\n      <td>105000.0</td>\n      <td>105000.0</td>\n      <td>105000.0</td>\n      <td>105000.0</td>\n      <td>105000.0</td>\n    </tr>\n    <tr>\n      <th>CemntBd</th>\n      <td>61.0</td>\n      <td>231690.655738</td>\n      <td>120575.621318</td>\n      <td>75000.0</td>\n      <td>119500.0</td>\n      <td>236500.0</td>\n      <td>303477.0</td>\n      <td>556581.0</td>\n    </tr>\n    <tr>\n      <th>HdBoard</th>\n      <td>222.0</td>\n      <td>163077.450450</td>\n      <td>66305.714164</td>\n      <td>83000.0</td>\n      <td>129625.0</td>\n      <td>149900.0</td>\n      <td>179900.0</td>\n      <td>755000.0</td>\n    </tr>\n    <tr>\n      <th>ImStucc</th>\n      <td>1.0</td>\n      <td>262000.000000</td>\n      <td>NaN</td>\n      <td>262000.0</td>\n      <td>262000.0</td>\n      <td>262000.0</td>\n      <td>262000.0</td>\n      <td>262000.0</td>\n    </tr>\n    <tr>\n      <th>MetalSd</th>\n      <td>220.0</td>\n      <td>149422.177273</td>\n      <td>54776.408990</td>\n      <td>62383.0</td>\n      <td>117750.0</td>\n      <td>139000.0</td>\n      <td>164775.0</td>\n      <td>392000.0</td>\n    </tr>\n    <tr>\n      <th>Plywood</th>\n      <td>108.0</td>\n      <td>175942.379630</td>\n      <td>49497.383293</td>\n      <td>82500.0</td>\n      <td>143437.5</td>\n      <td>167450.0</td>\n      <td>197500.0</td>\n      <td>345000.0</td>\n    </tr>\n    <tr>\n      <th>Stone</th>\n      <td>2.0</td>\n      <td>258500.000000</td>\n      <td>40305.086528</td>\n      <td>230000.0</td>\n      <td>244250.0</td>\n      <td>258500.0</td>\n      <td>272750.0</td>\n      <td>287000.0</td>\n    </tr>\n    <tr>\n      <th>Stucco</th>\n      <td>25.0</td>\n      <td>162990.000000</td>\n      <td>83307.246529</td>\n      <td>58500.0</td>\n      <td>116000.0</td>\n      <td>144000.0</td>\n      <td>188700.0</td>\n      <td>381000.0</td>\n    </tr>\n    <tr>\n      <th>VinylSd</th>\n      <td>515.0</td>\n      <td>213732.900971</td>\n      <td>80646.975785</td>\n      <td>37900.0</td>\n      <td>160000.0</td>\n      <td>200000.0</td>\n      <td>248614.0</td>\n      <td>611657.0</td>\n    </tr>\n    <tr>\n      <th>Wd Sdng</th>\n      <td>206.0</td>\n      <td>149841.645631</td>\n      <td>71130.448152</td>\n      <td>34900.0</td>\n      <td>112625.0</td>\n      <td>138943.5</td>\n      <td>167250.0</td>\n      <td>745000.0</td>\n    </tr>\n    <tr>\n      <th>WdShing</th>\n      <td>26.0</td>\n      <td>150655.076923</td>\n      <td>72507.530741</td>\n      <td>87000.0</td>\n      <td>109750.0</td>\n      <td>128700.0</td>\n      <td>160250.0</td>\n      <td>385000.0</td>\n    </tr>\n  </tbody>\n</table>\n</div>"
     },
     "execution_count": 292,
     "metadata": {},
     "output_type": "execute_result"
    }
   ],
   "source": [
    "# Exterior1st - 중간값 비슷\n",
    "sale_price_by_column('Exterior1st')"
   ],
   "metadata": {
    "collapsed": false,
    "ExecuteTime": {
     "end_time": "2024-06-29T08:46:11.911640Z",
     "start_time": "2024-06-29T08:46:11.867400Z"
    }
   },
   "id": "b661ee5ea74c944"
  },
  {
   "cell_type": "code",
   "execution_count": 293,
   "outputs": [
    {
     "data": {
      "text/plain": "            SalePrice                                                    \\\n                count           mean            std       min       25%   \nExterior2nd                                                               \nAsbShng          20.0  114060.550000   42315.043608   35311.0   94000.0   \nAsphShn           3.0  138000.000000   37509.998667  100000.0  119500.0   \nBrk Cmn           7.0  126714.285714   38693.084161   60000.0  114000.0   \nBrkFace          25.0  195818.000000   95097.551756   40000.0  137000.0   \nCBlock            1.0  105000.000000            NaN  105000.0  105000.0   \nCmentBd          60.0  230093.833333  116140.396221   75000.0  118375.0   \nHdBoard         207.0  167661.565217   70061.078357   83000.0  130500.0   \nImStucc          10.0  252070.000000  193176.672447   88000.0  131250.0   \nMetalSd         214.0  149803.172897   55078.595310   62383.0  118625.0   \nOther             1.0  319000.000000            NaN  319000.0  319000.0   \nPlywood         142.0  168112.387324   46955.744372   76500.0  135000.0   \nStone             5.0  158224.800000   63533.067573   90000.0   93500.0   \nStucco           26.0  155905.153846   74862.492410   58500.0   92262.5   \nVinylSd         504.0  214432.460317   80708.309670   37900.0  161550.0   \nWd Sdng         197.0  148386.065990   59892.856640   34900.0  114500.0   \nWd Shng          38.0  161328.947368   88974.217820   55000.0  117000.0   \n\n                                            \n                  50%        75%       max  \nExterior2nd                                 \nAsbShng      111000.0  135500.00  225000.0  \nAsphShn      139000.0  157000.00  175000.0  \nBrk Cmn      147000.0  148500.00  155000.0  \nBrkFace      160000.0  250000.00  430000.0  \nCBlock       105000.0  105000.00  105000.0  \nCmentBd      238750.0  304082.75  556581.0  \nHdBoard      155000.0  182500.00  755000.0  \nImStucc      187600.0  305500.00  745000.0  \nMetalSd      138750.0  164525.00  392000.0  \nOther        319000.0  319000.00  319000.0  \nPlywood      160750.0  192750.00  320000.0  \nStone        177000.0  200624.00  230000.0  \nStucco       142000.0  197250.00  381000.0  \nVinylSd      200070.5  249100.00  611657.0  \nWd Sdng      138000.0  164900.00  475000.0  \nWd Shng      138225.0  172312.50  538000.0  ",
      "text/html": "<div>\n<style scoped>\n    .dataframe tbody tr th:only-of-type {\n        vertical-align: middle;\n    }\n\n    .dataframe tbody tr th {\n        vertical-align: top;\n    }\n\n    .dataframe thead tr th {\n        text-align: left;\n    }\n\n    .dataframe thead tr:last-of-type th {\n        text-align: right;\n    }\n</style>\n<table border=\"1\" class=\"dataframe\">\n  <thead>\n    <tr>\n      <th></th>\n      <th colspan=\"8\" halign=\"left\">SalePrice</th>\n    </tr>\n    <tr>\n      <th></th>\n      <th>count</th>\n      <th>mean</th>\n      <th>std</th>\n      <th>min</th>\n      <th>25%</th>\n      <th>50%</th>\n      <th>75%</th>\n      <th>max</th>\n    </tr>\n    <tr>\n      <th>Exterior2nd</th>\n      <th></th>\n      <th></th>\n      <th></th>\n      <th></th>\n      <th></th>\n      <th></th>\n      <th></th>\n      <th></th>\n    </tr>\n  </thead>\n  <tbody>\n    <tr>\n      <th>AsbShng</th>\n      <td>20.0</td>\n      <td>114060.550000</td>\n      <td>42315.043608</td>\n      <td>35311.0</td>\n      <td>94000.0</td>\n      <td>111000.0</td>\n      <td>135500.00</td>\n      <td>225000.0</td>\n    </tr>\n    <tr>\n      <th>AsphShn</th>\n      <td>3.0</td>\n      <td>138000.000000</td>\n      <td>37509.998667</td>\n      <td>100000.0</td>\n      <td>119500.0</td>\n      <td>139000.0</td>\n      <td>157000.00</td>\n      <td>175000.0</td>\n    </tr>\n    <tr>\n      <th>Brk Cmn</th>\n      <td>7.0</td>\n      <td>126714.285714</td>\n      <td>38693.084161</td>\n      <td>60000.0</td>\n      <td>114000.0</td>\n      <td>147000.0</td>\n      <td>148500.00</td>\n      <td>155000.0</td>\n    </tr>\n    <tr>\n      <th>BrkFace</th>\n      <td>25.0</td>\n      <td>195818.000000</td>\n      <td>95097.551756</td>\n      <td>40000.0</td>\n      <td>137000.0</td>\n      <td>160000.0</td>\n      <td>250000.00</td>\n      <td>430000.0</td>\n    </tr>\n    <tr>\n      <th>CBlock</th>\n      <td>1.0</td>\n      <td>105000.000000</td>\n      <td>NaN</td>\n      <td>105000.0</td>\n      <td>105000.0</td>\n      <td>105000.0</td>\n      <td>105000.00</td>\n      <td>105000.0</td>\n    </tr>\n    <tr>\n      <th>CmentBd</th>\n      <td>60.0</td>\n      <td>230093.833333</td>\n      <td>116140.396221</td>\n      <td>75000.0</td>\n      <td>118375.0</td>\n      <td>238750.0</td>\n      <td>304082.75</td>\n      <td>556581.0</td>\n    </tr>\n    <tr>\n      <th>HdBoard</th>\n      <td>207.0</td>\n      <td>167661.565217</td>\n      <td>70061.078357</td>\n      <td>83000.0</td>\n      <td>130500.0</td>\n      <td>155000.0</td>\n      <td>182500.00</td>\n      <td>755000.0</td>\n    </tr>\n    <tr>\n      <th>ImStucc</th>\n      <td>10.0</td>\n      <td>252070.000000</td>\n      <td>193176.672447</td>\n      <td>88000.0</td>\n      <td>131250.0</td>\n      <td>187600.0</td>\n      <td>305500.00</td>\n      <td>745000.0</td>\n    </tr>\n    <tr>\n      <th>MetalSd</th>\n      <td>214.0</td>\n      <td>149803.172897</td>\n      <td>55078.595310</td>\n      <td>62383.0</td>\n      <td>118625.0</td>\n      <td>138750.0</td>\n      <td>164525.00</td>\n      <td>392000.0</td>\n    </tr>\n    <tr>\n      <th>Other</th>\n      <td>1.0</td>\n      <td>319000.000000</td>\n      <td>NaN</td>\n      <td>319000.0</td>\n      <td>319000.0</td>\n      <td>319000.0</td>\n      <td>319000.00</td>\n      <td>319000.0</td>\n    </tr>\n    <tr>\n      <th>Plywood</th>\n      <td>142.0</td>\n      <td>168112.387324</td>\n      <td>46955.744372</td>\n      <td>76500.0</td>\n      <td>135000.0</td>\n      <td>160750.0</td>\n      <td>192750.00</td>\n      <td>320000.0</td>\n    </tr>\n    <tr>\n      <th>Stone</th>\n      <td>5.0</td>\n      <td>158224.800000</td>\n      <td>63533.067573</td>\n      <td>90000.0</td>\n      <td>93500.0</td>\n      <td>177000.0</td>\n      <td>200624.00</td>\n      <td>230000.0</td>\n    </tr>\n    <tr>\n      <th>Stucco</th>\n      <td>26.0</td>\n      <td>155905.153846</td>\n      <td>74862.492410</td>\n      <td>58500.0</td>\n      <td>92262.5</td>\n      <td>142000.0</td>\n      <td>197250.00</td>\n      <td>381000.0</td>\n    </tr>\n    <tr>\n      <th>VinylSd</th>\n      <td>504.0</td>\n      <td>214432.460317</td>\n      <td>80708.309670</td>\n      <td>37900.0</td>\n      <td>161550.0</td>\n      <td>200070.5</td>\n      <td>249100.00</td>\n      <td>611657.0</td>\n    </tr>\n    <tr>\n      <th>Wd Sdng</th>\n      <td>197.0</td>\n      <td>148386.065990</td>\n      <td>59892.856640</td>\n      <td>34900.0</td>\n      <td>114500.0</td>\n      <td>138000.0</td>\n      <td>164900.00</td>\n      <td>475000.0</td>\n    </tr>\n    <tr>\n      <th>Wd Shng</th>\n      <td>38.0</td>\n      <td>161328.947368</td>\n      <td>88974.217820</td>\n      <td>55000.0</td>\n      <td>117000.0</td>\n      <td>138225.0</td>\n      <td>172312.50</td>\n      <td>538000.0</td>\n    </tr>\n  </tbody>\n</table>\n</div>"
     },
     "execution_count": 293,
     "metadata": {},
     "output_type": "execute_result"
    }
   ],
   "source": [
    "# Exterior2nd\n",
    "# 특성 제거 : 카운트가 비교적 적은 것이 영향을 많이 주고, 표준편차 큼\n",
    "sale_price_by_column('Exterior2nd', True)"
   ],
   "metadata": {
    "collapsed": false,
    "ExecuteTime": {
     "end_time": "2024-06-29T08:46:12.132101Z",
     "start_time": "2024-06-29T08:46:12.103955Z"
    }
   },
   "id": "6d76938b234c8599"
  },
  {
   "cell_type": "code",
   "execution_count": 294,
   "outputs": [
    {
     "data": {
      "text/plain": "           SalePrice                                                   \\\n               count           mean           std       min       25%   \nMasVnrType                                                              \nBrkCmn          15.0  146318.066667  46187.583632   89471.0  114250.0   \nBrkFace        445.0  204691.871910  81214.293554   75000.0  149300.0   \nStone          128.0  265583.625000  99940.156577  119000.0  194650.0   \n\n                                          \n                 50%       75%       max  \nMasVnrType                                \nBrkCmn      139000.0  163950.0  277000.0  \nBrkFace     181000.0  236000.0  755000.0  \nStone       246839.0  312779.0  611657.0  ",
      "text/html": "<div>\n<style scoped>\n    .dataframe tbody tr th:only-of-type {\n        vertical-align: middle;\n    }\n\n    .dataframe tbody tr th {\n        vertical-align: top;\n    }\n\n    .dataframe thead tr th {\n        text-align: left;\n    }\n\n    .dataframe thead tr:last-of-type th {\n        text-align: right;\n    }\n</style>\n<table border=\"1\" class=\"dataframe\">\n  <thead>\n    <tr>\n      <th></th>\n      <th colspan=\"8\" halign=\"left\">SalePrice</th>\n    </tr>\n    <tr>\n      <th></th>\n      <th>count</th>\n      <th>mean</th>\n      <th>std</th>\n      <th>min</th>\n      <th>25%</th>\n      <th>50%</th>\n      <th>75%</th>\n      <th>max</th>\n    </tr>\n    <tr>\n      <th>MasVnrType</th>\n      <th></th>\n      <th></th>\n      <th></th>\n      <th></th>\n      <th></th>\n      <th></th>\n      <th></th>\n      <th></th>\n    </tr>\n  </thead>\n  <tbody>\n    <tr>\n      <th>BrkCmn</th>\n      <td>15.0</td>\n      <td>146318.066667</td>\n      <td>46187.583632</td>\n      <td>89471.0</td>\n      <td>114250.0</td>\n      <td>139000.0</td>\n      <td>163950.0</td>\n      <td>277000.0</td>\n    </tr>\n    <tr>\n      <th>BrkFace</th>\n      <td>445.0</td>\n      <td>204691.871910</td>\n      <td>81214.293554</td>\n      <td>75000.0</td>\n      <td>149300.0</td>\n      <td>181000.0</td>\n      <td>236000.0</td>\n      <td>755000.0</td>\n    </tr>\n    <tr>\n      <th>Stone</th>\n      <td>128.0</td>\n      <td>265583.625000</td>\n      <td>99940.156577</td>\n      <td>119000.0</td>\n      <td>194650.0</td>\n      <td>246839.0</td>\n      <td>312779.0</td>\n      <td>611657.0</td>\n    </tr>\n  </tbody>\n</table>\n</div>"
     },
     "execution_count": 294,
     "metadata": {},
     "output_type": "execute_result"
    }
   ],
   "source": [
    "# MasVnrType\n",
    "sale_price_by_column('MasVnrType')"
   ],
   "metadata": {
    "collapsed": false,
    "ExecuteTime": {
     "end_time": "2024-06-29T08:46:12.341484Z",
     "start_time": "2024-06-29T08:46:12.319758Z"
    }
   },
   "id": "f54fce2b75ce4477"
  },
  {
   "cell_type": "code",
   "execution_count": 295,
   "outputs": [
    {
     "data": {
      "text/plain": "          SalePrice                                                    \\\n              count           mean            std       min       25%   \nExterQual                                                               \nEx             52.0  367360.961538  116401.264200  160000.0  311404.0   \nFa             14.0   87985.214286   39826.918794   39300.0   60250.0   \nGd            488.0  231633.510246   71188.873899   52000.0  185000.0   \nTA            906.0  144341.313466   42471.815703   34900.0  118589.5   \n\n                                          \n                50%        75%       max  \nExterQual                                 \nEx         364606.5  428788.50  755000.0  \nFa          82250.0  102000.00  200000.0  \nGd         220000.0  265984.25  745000.0  \nTA         139450.0  165500.00  381000.0  ",
      "text/html": "<div>\n<style scoped>\n    .dataframe tbody tr th:only-of-type {\n        vertical-align: middle;\n    }\n\n    .dataframe tbody tr th {\n        vertical-align: top;\n    }\n\n    .dataframe thead tr th {\n        text-align: left;\n    }\n\n    .dataframe thead tr:last-of-type th {\n        text-align: right;\n    }\n</style>\n<table border=\"1\" class=\"dataframe\">\n  <thead>\n    <tr>\n      <th></th>\n      <th colspan=\"8\" halign=\"left\">SalePrice</th>\n    </tr>\n    <tr>\n      <th></th>\n      <th>count</th>\n      <th>mean</th>\n      <th>std</th>\n      <th>min</th>\n      <th>25%</th>\n      <th>50%</th>\n      <th>75%</th>\n      <th>max</th>\n    </tr>\n    <tr>\n      <th>ExterQual</th>\n      <th></th>\n      <th></th>\n      <th></th>\n      <th></th>\n      <th></th>\n      <th></th>\n      <th></th>\n      <th></th>\n    </tr>\n  </thead>\n  <tbody>\n    <tr>\n      <th>Ex</th>\n      <td>52.0</td>\n      <td>367360.961538</td>\n      <td>116401.264200</td>\n      <td>160000.0</td>\n      <td>311404.0</td>\n      <td>364606.5</td>\n      <td>428788.50</td>\n      <td>755000.0</td>\n    </tr>\n    <tr>\n      <th>Fa</th>\n      <td>14.0</td>\n      <td>87985.214286</td>\n      <td>39826.918794</td>\n      <td>39300.0</td>\n      <td>60250.0</td>\n      <td>82250.0</td>\n      <td>102000.00</td>\n      <td>200000.0</td>\n    </tr>\n    <tr>\n      <th>Gd</th>\n      <td>488.0</td>\n      <td>231633.510246</td>\n      <td>71188.873899</td>\n      <td>52000.0</td>\n      <td>185000.0</td>\n      <td>220000.0</td>\n      <td>265984.25</td>\n      <td>745000.0</td>\n    </tr>\n    <tr>\n      <th>TA</th>\n      <td>906.0</td>\n      <td>144341.313466</td>\n      <td>42471.815703</td>\n      <td>34900.0</td>\n      <td>118589.5</td>\n      <td>139450.0</td>\n      <td>165500.00</td>\n      <td>381000.0</td>\n    </tr>\n  </tbody>\n</table>\n</div>"
     },
     "execution_count": 295,
     "metadata": {},
     "output_type": "execute_result"
    }
   ],
   "source": [
    "# ExterQual - max, min , 중간값 명확함\n",
    "sale_price_by_column('ExterQual')"
   ],
   "metadata": {
    "collapsed": false,
    "ExecuteTime": {
     "end_time": "2024-06-29T08:46:12.578547Z",
     "start_time": "2024-06-29T08:46:12.565558Z"
    }
   },
   "id": "b5c1428a24c66752"
  },
  {
   "cell_type": "code",
   "execution_count": 296,
   "outputs": [
    {
     "data": {
      "text/plain": "          SalePrice                                                    \\\n              count           mean            std       min       25%   \nExterCond                                                               \nEx              3.0  201333.333333  109235.220205  118000.0  139500.0   \nFa             28.0  102595.142857   40094.383940   39300.0   65500.0   \nGd            146.0  168897.568493   72608.303632   68400.0  128625.0   \nPo              1.0   76500.000000            NaN   76500.0   76500.0   \nTA           1282.0  184034.896256   79806.257233   34900.0  131100.0   \n\n                                          \n                50%        75%       max  \nExterCond                                 \nEx         161000.0  243000.00  325000.0  \nFa          95750.0  137750.00  169500.0  \nGd         151250.0  187375.00  625000.0  \nPo          76500.0   76500.00   76500.0  \nTA         167370.0  217334.25  755000.0  ",
      "text/html": "<div>\n<style scoped>\n    .dataframe tbody tr th:only-of-type {\n        vertical-align: middle;\n    }\n\n    .dataframe tbody tr th {\n        vertical-align: top;\n    }\n\n    .dataframe thead tr th {\n        text-align: left;\n    }\n\n    .dataframe thead tr:last-of-type th {\n        text-align: right;\n    }\n</style>\n<table border=\"1\" class=\"dataframe\">\n  <thead>\n    <tr>\n      <th></th>\n      <th colspan=\"8\" halign=\"left\">SalePrice</th>\n    </tr>\n    <tr>\n      <th></th>\n      <th>count</th>\n      <th>mean</th>\n      <th>std</th>\n      <th>min</th>\n      <th>25%</th>\n      <th>50%</th>\n      <th>75%</th>\n      <th>max</th>\n    </tr>\n    <tr>\n      <th>ExterCond</th>\n      <th></th>\n      <th></th>\n      <th></th>\n      <th></th>\n      <th></th>\n      <th></th>\n      <th></th>\n      <th></th>\n    </tr>\n  </thead>\n  <tbody>\n    <tr>\n      <th>Ex</th>\n      <td>3.0</td>\n      <td>201333.333333</td>\n      <td>109235.220205</td>\n      <td>118000.0</td>\n      <td>139500.0</td>\n      <td>161000.0</td>\n      <td>243000.00</td>\n      <td>325000.0</td>\n    </tr>\n    <tr>\n      <th>Fa</th>\n      <td>28.0</td>\n      <td>102595.142857</td>\n      <td>40094.383940</td>\n      <td>39300.0</td>\n      <td>65500.0</td>\n      <td>95750.0</td>\n      <td>137750.00</td>\n      <td>169500.0</td>\n    </tr>\n    <tr>\n      <th>Gd</th>\n      <td>146.0</td>\n      <td>168897.568493</td>\n      <td>72608.303632</td>\n      <td>68400.0</td>\n      <td>128625.0</td>\n      <td>151250.0</td>\n      <td>187375.00</td>\n      <td>625000.0</td>\n    </tr>\n    <tr>\n      <th>Po</th>\n      <td>1.0</td>\n      <td>76500.000000</td>\n      <td>NaN</td>\n      <td>76500.0</td>\n      <td>76500.0</td>\n      <td>76500.0</td>\n      <td>76500.00</td>\n      <td>76500.0</td>\n    </tr>\n    <tr>\n      <th>TA</th>\n      <td>1282.0</td>\n      <td>184034.896256</td>\n      <td>79806.257233</td>\n      <td>34900.0</td>\n      <td>131100.0</td>\n      <td>167370.0</td>\n      <td>217334.25</td>\n      <td>755000.0</td>\n    </tr>\n  </tbody>\n</table>\n</div>"
     },
     "execution_count": 296,
     "metadata": {},
     "output_type": "execute_result"
    }
   ],
   "source": [
    "# ExterCond\n",
    "sale_price_by_column('ExterCond')"
   ],
   "metadata": {
    "collapsed": false,
    "ExecuteTime": {
     "end_time": "2024-06-29T08:46:12.905223Z",
     "start_time": "2024-06-29T08:46:12.799836Z"
    }
   },
   "id": "3ef0accfa6f5406"
  },
  {
   "cell_type": "code",
   "execution_count": 297,
   "outputs": [
    {
     "name": "stdout",
     "output_type": "stream",
     "text": [
      "0.9999999992944921\n",
      "0.7309323996910557\n",
      "6.449858454393457\n"
     ]
    }
   ],
   "source": [
    "from sklearn.model_selection import train_test_split\n",
    "\n",
    "##########데이터 로드\n",
    "\n",
    "x_data = np.array([\n",
    "    [2, 1],\n",
    "    [3, 2],\n",
    "    [3, 4],\n",
    "    [5, 5],\n",
    "    [7, 5],\n",
    "    [2, 5],\n",
    "    [8, 9],\n",
    "    [9, 10],\n",
    "    [6, 12],\n",
    "    [9, 2],\n",
    "    [6, 10],\n",
    "    [2, 4]\n",
    "])\n",
    "y_data = np.array([3, 5, 7, 10, 12, 7, 13, 13, 12, 13, 12, 6])\n",
    "\n",
    "##########데이터 분석\n",
    "\n",
    "##########데이터 전처리\n",
    "\n",
    "x_train, x_test, y_train, y_test = train_test_split(x_data, y_data, test_size=0.3, random_state=777)\n",
    "\n",
    "##########모델 생성\n",
    "\n",
    "model = GradientBoostingRegressor()\n",
    "\n",
    "##########모델 학습\n",
    "\n",
    "model.fit(x_train, y_train)\n",
    "\n",
    "##########모델 검증\n",
    "\n",
    "print(model.score(x_train, y_train)) #\n",
    "\n",
    "print(model.score(x_test, y_test)) #0.7421680021828538\n",
    "\n",
    "##########모델 예측\n",
    "\n",
    "x_test = np.array([\n",
    "    [4, 6]\n",
    "])\n",
    "\n",
    "y_predict = model.predict(x_test)\n",
    "\n",
    "print(y_predict[0]) #6.497766320678856"
   ],
   "metadata": {
    "collapsed": false,
    "ExecuteTime": {
     "end_time": "2024-06-29T08:46:13.028447Z",
     "start_time": "2024-06-29T08:46:12.999107Z"
    }
   },
   "id": "1165ad5aa7825d40"
  },
  {
   "cell_type": "markdown",
   "source": [
    "### Encoding"
   ],
   "metadata": {
    "collapsed": false
   },
   "id": "32d4a542177b16b1"
  },
  {
   "cell_type": "code",
   "execution_count": 314,
   "outputs": [],
   "source": [
    "from sklearn.preprocessing import LabelEncoder\n",
    "\n",
    "\n",
    "label_encoder= LabelEncoder()\n",
    "all_dataset = train_dataset._append(test_dataset)\n",
    "\n",
    "for column in all_dataset.columns:\n",
    "    if(column == 'Id'):\n",
    "        continue\n",
    "    encoded = label_encoder.fit_transform(all_dataset[column])\n",
    "    all_dataset[column] = encoded\n",
    "    "
   ],
   "metadata": {
    "collapsed": false,
    "ExecuteTime": {
     "end_time": "2024-06-29T08:49:17.646292Z",
     "start_time": "2024-06-29T08:49:17.618678Z"
    }
   },
   "id": "6989a3234e3e9fd5"
  },
  {
   "cell_type": "code",
   "execution_count": 315,
   "outputs": [],
   "source": [
    "train_length = 1460\n",
    "encoded_train_dataset = all_dataset.iloc[:train_length]\n",
    "encoded_test_dataset = all_dataset.iloc[train_length:]"
   ],
   "metadata": {
    "collapsed": false,
    "ExecuteTime": {
     "end_time": "2024-06-29T08:49:18.008108Z",
     "start_time": "2024-06-29T08:49:17.994695Z"
    }
   },
   "id": "a11d584bf6f61f6a"
  },
  {
   "cell_type": "code",
   "execution_count": 316,
   "outputs": [],
   "source": [
    "filtered_train_dataset = encoded_train_dataset.drop(columns=list(remove_columns))\n",
    "filtered_test_dataset = encoded_test_dataset.drop(columns=list(remove_columns))"
   ],
   "metadata": {
    "collapsed": false,
    "ExecuteTime": {
     "end_time": "2024-06-29T08:49:18.483098Z",
     "start_time": "2024-06-29T08:49:18.478726Z"
    }
   },
   "id": "83adb0bf726c5fd5"
  },
  {
   "cell_type": "code",
   "execution_count": 317,
   "outputs": [
    {
     "data": {
      "text/plain": "        Id  MSSubClass  MSZoning  LotFrontage  LotArea  Street  Alley  \\\n0     1461           0         2           56     1329       1      2   \n1     1462           0         3           57     1671       1      2   \n2     1463           5         3           50     1635       1      2   \n3     1464           5         3           54      979       1      2   \n4     1465          11         3           19      178       1      2   \n...    ...         ...       ...          ...      ...     ...    ...   \n1454  2915          13         4            0       23       1      2   \n1455  2916          13         4            0       20       1      2   \n1456  2917           0         3          121     1863       1      2   \n1457  2918           9         3           38     1090       1      2   \n1458  2919           5         3           50      900       1      2   \n\n      LotShape  LandContour  Utilities  ...  PoolArea  PoolQC  Fence  \\\n0            3            3          0  ...         0       3      2   \n1            0            3          0  ...         0       3      4   \n2            0            3          0  ...         0       3      2   \n3            0            3          0  ...         0       3      4   \n4            0            1          0  ...         0       3      4   \n...        ...          ...        ...  ...       ...     ...    ...   \n1454         3            3          0  ...         0       3      4   \n1455         3            3          0  ...         0       3      4   \n1456         3            3          0  ...         0       3      4   \n1457         3            3          0  ...         0       3      2   \n1458         3            3          0  ...         0       3      4   \n\n      MiscFeature  MiscVal  MoSold  YrSold  SaleType  SaleCondition  SalePrice  \n0               4        0       5       4         8              4        663  \n1               0       35       5       4         8              4        663  \n2               4        0       2       4         8              4        663  \n3               4        0       5       4         8              4        663  \n4               4        0       0       4         8              4        663  \n...           ...      ...     ...     ...       ...            ...        ...  \n1454            4        0       5       0         8              4        663  \n1455            4        0       3       0         8              0        663  \n1456            4        0       8       0         8              0        663  \n1457            2       17       6       0         8              4        663  \n1458            4        0      10       0         8              4        663  \n\n[1459 rows x 81 columns]",
      "text/html": "<div>\n<style scoped>\n    .dataframe tbody tr th:only-of-type {\n        vertical-align: middle;\n    }\n\n    .dataframe tbody tr th {\n        vertical-align: top;\n    }\n\n    .dataframe thead th {\n        text-align: right;\n    }\n</style>\n<table border=\"1\" class=\"dataframe\">\n  <thead>\n    <tr style=\"text-align: right;\">\n      <th></th>\n      <th>Id</th>\n      <th>MSSubClass</th>\n      <th>MSZoning</th>\n      <th>LotFrontage</th>\n      <th>LotArea</th>\n      <th>Street</th>\n      <th>Alley</th>\n      <th>LotShape</th>\n      <th>LandContour</th>\n      <th>Utilities</th>\n      <th>...</th>\n      <th>PoolArea</th>\n      <th>PoolQC</th>\n      <th>Fence</th>\n      <th>MiscFeature</th>\n      <th>MiscVal</th>\n      <th>MoSold</th>\n      <th>YrSold</th>\n      <th>SaleType</th>\n      <th>SaleCondition</th>\n      <th>SalePrice</th>\n    </tr>\n  </thead>\n  <tbody>\n    <tr>\n      <th>0</th>\n      <td>1461</td>\n      <td>0</td>\n      <td>2</td>\n      <td>56</td>\n      <td>1329</td>\n      <td>1</td>\n      <td>2</td>\n      <td>3</td>\n      <td>3</td>\n      <td>0</td>\n      <td>...</td>\n      <td>0</td>\n      <td>3</td>\n      <td>2</td>\n      <td>4</td>\n      <td>0</td>\n      <td>5</td>\n      <td>4</td>\n      <td>8</td>\n      <td>4</td>\n      <td>663</td>\n    </tr>\n    <tr>\n      <th>1</th>\n      <td>1462</td>\n      <td>0</td>\n      <td>3</td>\n      <td>57</td>\n      <td>1671</td>\n      <td>1</td>\n      <td>2</td>\n      <td>0</td>\n      <td>3</td>\n      <td>0</td>\n      <td>...</td>\n      <td>0</td>\n      <td>3</td>\n      <td>4</td>\n      <td>0</td>\n      <td>35</td>\n      <td>5</td>\n      <td>4</td>\n      <td>8</td>\n      <td>4</td>\n      <td>663</td>\n    </tr>\n    <tr>\n      <th>2</th>\n      <td>1463</td>\n      <td>5</td>\n      <td>3</td>\n      <td>50</td>\n      <td>1635</td>\n      <td>1</td>\n      <td>2</td>\n      <td>0</td>\n      <td>3</td>\n      <td>0</td>\n      <td>...</td>\n      <td>0</td>\n      <td>3</td>\n      <td>2</td>\n      <td>4</td>\n      <td>0</td>\n      <td>2</td>\n      <td>4</td>\n      <td>8</td>\n      <td>4</td>\n      <td>663</td>\n    </tr>\n    <tr>\n      <th>3</th>\n      <td>1464</td>\n      <td>5</td>\n      <td>3</td>\n      <td>54</td>\n      <td>979</td>\n      <td>1</td>\n      <td>2</td>\n      <td>0</td>\n      <td>3</td>\n      <td>0</td>\n      <td>...</td>\n      <td>0</td>\n      <td>3</td>\n      <td>4</td>\n      <td>4</td>\n      <td>0</td>\n      <td>5</td>\n      <td>4</td>\n      <td>8</td>\n      <td>4</td>\n      <td>663</td>\n    </tr>\n    <tr>\n      <th>4</th>\n      <td>1465</td>\n      <td>11</td>\n      <td>3</td>\n      <td>19</td>\n      <td>178</td>\n      <td>1</td>\n      <td>2</td>\n      <td>0</td>\n      <td>1</td>\n      <td>0</td>\n      <td>...</td>\n      <td>0</td>\n      <td>3</td>\n      <td>4</td>\n      <td>4</td>\n      <td>0</td>\n      <td>0</td>\n      <td>4</td>\n      <td>8</td>\n      <td>4</td>\n      <td>663</td>\n    </tr>\n    <tr>\n      <th>...</th>\n      <td>...</td>\n      <td>...</td>\n      <td>...</td>\n      <td>...</td>\n      <td>...</td>\n      <td>...</td>\n      <td>...</td>\n      <td>...</td>\n      <td>...</td>\n      <td>...</td>\n      <td>...</td>\n      <td>...</td>\n      <td>...</td>\n      <td>...</td>\n      <td>...</td>\n      <td>...</td>\n      <td>...</td>\n      <td>...</td>\n      <td>...</td>\n      <td>...</td>\n      <td>...</td>\n    </tr>\n    <tr>\n      <th>1454</th>\n      <td>2915</td>\n      <td>13</td>\n      <td>4</td>\n      <td>0</td>\n      <td>23</td>\n      <td>1</td>\n      <td>2</td>\n      <td>3</td>\n      <td>3</td>\n      <td>0</td>\n      <td>...</td>\n      <td>0</td>\n      <td>3</td>\n      <td>4</td>\n      <td>4</td>\n      <td>0</td>\n      <td>5</td>\n      <td>0</td>\n      <td>8</td>\n      <td>4</td>\n      <td>663</td>\n    </tr>\n    <tr>\n      <th>1455</th>\n      <td>2916</td>\n      <td>13</td>\n      <td>4</td>\n      <td>0</td>\n      <td>20</td>\n      <td>1</td>\n      <td>2</td>\n      <td>3</td>\n      <td>3</td>\n      <td>0</td>\n      <td>...</td>\n      <td>0</td>\n      <td>3</td>\n      <td>4</td>\n      <td>4</td>\n      <td>0</td>\n      <td>3</td>\n      <td>0</td>\n      <td>8</td>\n      <td>0</td>\n      <td>663</td>\n    </tr>\n    <tr>\n      <th>1456</th>\n      <td>2917</td>\n      <td>0</td>\n      <td>3</td>\n      <td>121</td>\n      <td>1863</td>\n      <td>1</td>\n      <td>2</td>\n      <td>3</td>\n      <td>3</td>\n      <td>0</td>\n      <td>...</td>\n      <td>0</td>\n      <td>3</td>\n      <td>4</td>\n      <td>4</td>\n      <td>0</td>\n      <td>8</td>\n      <td>0</td>\n      <td>8</td>\n      <td>0</td>\n      <td>663</td>\n    </tr>\n    <tr>\n      <th>1457</th>\n      <td>2918</td>\n      <td>9</td>\n      <td>3</td>\n      <td>38</td>\n      <td>1090</td>\n      <td>1</td>\n      <td>2</td>\n      <td>3</td>\n      <td>3</td>\n      <td>0</td>\n      <td>...</td>\n      <td>0</td>\n      <td>3</td>\n      <td>2</td>\n      <td>2</td>\n      <td>17</td>\n      <td>6</td>\n      <td>0</td>\n      <td>8</td>\n      <td>4</td>\n      <td>663</td>\n    </tr>\n    <tr>\n      <th>1458</th>\n      <td>2919</td>\n      <td>5</td>\n      <td>3</td>\n      <td>50</td>\n      <td>900</td>\n      <td>1</td>\n      <td>2</td>\n      <td>3</td>\n      <td>3</td>\n      <td>0</td>\n      <td>...</td>\n      <td>0</td>\n      <td>3</td>\n      <td>4</td>\n      <td>4</td>\n      <td>0</td>\n      <td>10</td>\n      <td>0</td>\n      <td>8</td>\n      <td>4</td>\n      <td>663</td>\n    </tr>\n  </tbody>\n</table>\n<p>1459 rows × 81 columns</p>\n</div>"
     },
     "execution_count": 317,
     "metadata": {},
     "output_type": "execute_result"
    }
   ],
   "source": [
    "encoded_test_dataset"
   ],
   "metadata": {
    "collapsed": false,
    "ExecuteTime": {
     "end_time": "2024-06-29T08:49:19.453761Z",
     "start_time": "2024-06-29T08:49:19.439857Z"
    }
   },
   "id": "90fc48d82d991779"
  },
  {
   "cell_type": "markdown",
   "source": [
    "### 결측값 채우기"
   ],
   "metadata": {
    "collapsed": false
   },
   "id": "bb644fc4c1141e11"
  },
  {
   "cell_type": "code",
   "execution_count": 318,
   "outputs": [
    {
     "data": {
      "text/plain": "        Id  MSSubClass  MSZoning  LotFrontage  LotArea  Street  Alley  \\\n0     1461           0         2           56     1329       1      2   \n1     1462           0         3           57     1671       1      2   \n2     1463           5         3           50     1635       1      2   \n3     1464           5         3           54      979       1      2   \n4     1465          11         3           19      178       1      2   \n...    ...         ...       ...          ...      ...     ...    ...   \n1454  2915          13         4            0       23       1      2   \n1455  2916          13         4            0       20       1      2   \n1456  2917           0         3          121     1863       1      2   \n1457  2918           9         3           38     1090       1      2   \n1458  2919           5         3           50      900       1      2   \n\n      LotShape  LandContour  Utilities  ...  PoolArea  PoolQC  Fence  \\\n0            3            3          0  ...         0       3      2   \n1            0            3          0  ...         0       3      4   \n2            0            3          0  ...         0       3      2   \n3            0            3          0  ...         0       3      4   \n4            0            1          0  ...         0       3      4   \n...        ...          ...        ...  ...       ...     ...    ...   \n1454         3            3          0  ...         0       3      4   \n1455         3            3          0  ...         0       3      4   \n1456         3            3          0  ...         0       3      4   \n1457         3            3          0  ...         0       3      2   \n1458         3            3          0  ...         0       3      4   \n\n      MiscFeature  MiscVal  MoSold  YrSold  SaleType  SaleCondition  SalePrice  \n0               4        0       5       4         8              4        663  \n1               0       35       5       4         8              4        663  \n2               4        0       2       4         8              4        663  \n3               4        0       5       4         8              4        663  \n4               4        0       0       4         8              4        663  \n...           ...      ...     ...     ...       ...            ...        ...  \n1454            4        0       5       0         8              4        663  \n1455            4        0       3       0         8              0        663  \n1456            4        0       8       0         8              0        663  \n1457            2       17       6       0         8              4        663  \n1458            4        0      10       0         8              4        663  \n\n[1459 rows x 81 columns]",
      "text/html": "<div>\n<style scoped>\n    .dataframe tbody tr th:only-of-type {\n        vertical-align: middle;\n    }\n\n    .dataframe tbody tr th {\n        vertical-align: top;\n    }\n\n    .dataframe thead th {\n        text-align: right;\n    }\n</style>\n<table border=\"1\" class=\"dataframe\">\n  <thead>\n    <tr style=\"text-align: right;\">\n      <th></th>\n      <th>Id</th>\n      <th>MSSubClass</th>\n      <th>MSZoning</th>\n      <th>LotFrontage</th>\n      <th>LotArea</th>\n      <th>Street</th>\n      <th>Alley</th>\n      <th>LotShape</th>\n      <th>LandContour</th>\n      <th>Utilities</th>\n      <th>...</th>\n      <th>PoolArea</th>\n      <th>PoolQC</th>\n      <th>Fence</th>\n      <th>MiscFeature</th>\n      <th>MiscVal</th>\n      <th>MoSold</th>\n      <th>YrSold</th>\n      <th>SaleType</th>\n      <th>SaleCondition</th>\n      <th>SalePrice</th>\n    </tr>\n  </thead>\n  <tbody>\n    <tr>\n      <th>0</th>\n      <td>1461</td>\n      <td>0</td>\n      <td>2</td>\n      <td>56</td>\n      <td>1329</td>\n      <td>1</td>\n      <td>2</td>\n      <td>3</td>\n      <td>3</td>\n      <td>0</td>\n      <td>...</td>\n      <td>0</td>\n      <td>3</td>\n      <td>2</td>\n      <td>4</td>\n      <td>0</td>\n      <td>5</td>\n      <td>4</td>\n      <td>8</td>\n      <td>4</td>\n      <td>663</td>\n    </tr>\n    <tr>\n      <th>1</th>\n      <td>1462</td>\n      <td>0</td>\n      <td>3</td>\n      <td>57</td>\n      <td>1671</td>\n      <td>1</td>\n      <td>2</td>\n      <td>0</td>\n      <td>3</td>\n      <td>0</td>\n      <td>...</td>\n      <td>0</td>\n      <td>3</td>\n      <td>4</td>\n      <td>0</td>\n      <td>35</td>\n      <td>5</td>\n      <td>4</td>\n      <td>8</td>\n      <td>4</td>\n      <td>663</td>\n    </tr>\n    <tr>\n      <th>2</th>\n      <td>1463</td>\n      <td>5</td>\n      <td>3</td>\n      <td>50</td>\n      <td>1635</td>\n      <td>1</td>\n      <td>2</td>\n      <td>0</td>\n      <td>3</td>\n      <td>0</td>\n      <td>...</td>\n      <td>0</td>\n      <td>3</td>\n      <td>2</td>\n      <td>4</td>\n      <td>0</td>\n      <td>2</td>\n      <td>4</td>\n      <td>8</td>\n      <td>4</td>\n      <td>663</td>\n    </tr>\n    <tr>\n      <th>3</th>\n      <td>1464</td>\n      <td>5</td>\n      <td>3</td>\n      <td>54</td>\n      <td>979</td>\n      <td>1</td>\n      <td>2</td>\n      <td>0</td>\n      <td>3</td>\n      <td>0</td>\n      <td>...</td>\n      <td>0</td>\n      <td>3</td>\n      <td>4</td>\n      <td>4</td>\n      <td>0</td>\n      <td>5</td>\n      <td>4</td>\n      <td>8</td>\n      <td>4</td>\n      <td>663</td>\n    </tr>\n    <tr>\n      <th>4</th>\n      <td>1465</td>\n      <td>11</td>\n      <td>3</td>\n      <td>19</td>\n      <td>178</td>\n      <td>1</td>\n      <td>2</td>\n      <td>0</td>\n      <td>1</td>\n      <td>0</td>\n      <td>...</td>\n      <td>0</td>\n      <td>3</td>\n      <td>4</td>\n      <td>4</td>\n      <td>0</td>\n      <td>0</td>\n      <td>4</td>\n      <td>8</td>\n      <td>4</td>\n      <td>663</td>\n    </tr>\n    <tr>\n      <th>...</th>\n      <td>...</td>\n      <td>...</td>\n      <td>...</td>\n      <td>...</td>\n      <td>...</td>\n      <td>...</td>\n      <td>...</td>\n      <td>...</td>\n      <td>...</td>\n      <td>...</td>\n      <td>...</td>\n      <td>...</td>\n      <td>...</td>\n      <td>...</td>\n      <td>...</td>\n      <td>...</td>\n      <td>...</td>\n      <td>...</td>\n      <td>...</td>\n      <td>...</td>\n      <td>...</td>\n    </tr>\n    <tr>\n      <th>1454</th>\n      <td>2915</td>\n      <td>13</td>\n      <td>4</td>\n      <td>0</td>\n      <td>23</td>\n      <td>1</td>\n      <td>2</td>\n      <td>3</td>\n      <td>3</td>\n      <td>0</td>\n      <td>...</td>\n      <td>0</td>\n      <td>3</td>\n      <td>4</td>\n      <td>4</td>\n      <td>0</td>\n      <td>5</td>\n      <td>0</td>\n      <td>8</td>\n      <td>4</td>\n      <td>663</td>\n    </tr>\n    <tr>\n      <th>1455</th>\n      <td>2916</td>\n      <td>13</td>\n      <td>4</td>\n      <td>0</td>\n      <td>20</td>\n      <td>1</td>\n      <td>2</td>\n      <td>3</td>\n      <td>3</td>\n      <td>0</td>\n      <td>...</td>\n      <td>0</td>\n      <td>3</td>\n      <td>4</td>\n      <td>4</td>\n      <td>0</td>\n      <td>3</td>\n      <td>0</td>\n      <td>8</td>\n      <td>0</td>\n      <td>663</td>\n    </tr>\n    <tr>\n      <th>1456</th>\n      <td>2917</td>\n      <td>0</td>\n      <td>3</td>\n      <td>121</td>\n      <td>1863</td>\n      <td>1</td>\n      <td>2</td>\n      <td>3</td>\n      <td>3</td>\n      <td>0</td>\n      <td>...</td>\n      <td>0</td>\n      <td>3</td>\n      <td>4</td>\n      <td>4</td>\n      <td>0</td>\n      <td>8</td>\n      <td>0</td>\n      <td>8</td>\n      <td>0</td>\n      <td>663</td>\n    </tr>\n    <tr>\n      <th>1457</th>\n      <td>2918</td>\n      <td>9</td>\n      <td>3</td>\n      <td>38</td>\n      <td>1090</td>\n      <td>1</td>\n      <td>2</td>\n      <td>3</td>\n      <td>3</td>\n      <td>0</td>\n      <td>...</td>\n      <td>0</td>\n      <td>3</td>\n      <td>2</td>\n      <td>2</td>\n      <td>17</td>\n      <td>6</td>\n      <td>0</td>\n      <td>8</td>\n      <td>4</td>\n      <td>663</td>\n    </tr>\n    <tr>\n      <th>1458</th>\n      <td>2919</td>\n      <td>5</td>\n      <td>3</td>\n      <td>50</td>\n      <td>900</td>\n      <td>1</td>\n      <td>2</td>\n      <td>3</td>\n      <td>3</td>\n      <td>0</td>\n      <td>...</td>\n      <td>0</td>\n      <td>3</td>\n      <td>4</td>\n      <td>4</td>\n      <td>0</td>\n      <td>10</td>\n      <td>0</td>\n      <td>8</td>\n      <td>4</td>\n      <td>663</td>\n    </tr>\n  </tbody>\n</table>\n<p>1459 rows × 81 columns</p>\n</div>"
     },
     "execution_count": 318,
     "metadata": {},
     "output_type": "execute_result"
    }
   ],
   "source": [
    "filtered_train_dataset.fillna('')\n",
    "encoded_test_dataset.fillna('')"
   ],
   "metadata": {
    "collapsed": false,
    "ExecuteTime": {
     "end_time": "2024-06-29T08:49:22.706785Z",
     "start_time": "2024-06-29T08:49:22.671455Z"
    }
   },
   "id": "c260198d5ae823e9"
  },
  {
   "cell_type": "code",
   "execution_count": 319,
   "outputs": [
    {
     "data": {
      "text/plain": "GradientBoostingRegressor()",
      "text/html": "<style>#sk-container-id-2 {\n  /* Definition of color scheme common for light and dark mode */\n  --sklearn-color-text: black;\n  --sklearn-color-line: gray;\n  /* Definition of color scheme for unfitted estimators */\n  --sklearn-color-unfitted-level-0: #fff5e6;\n  --sklearn-color-unfitted-level-1: #f6e4d2;\n  --sklearn-color-unfitted-level-2: #ffe0b3;\n  --sklearn-color-unfitted-level-3: chocolate;\n  /* Definition of color scheme for fitted estimators */\n  --sklearn-color-fitted-level-0: #f0f8ff;\n  --sklearn-color-fitted-level-1: #d4ebff;\n  --sklearn-color-fitted-level-2: #b3dbfd;\n  --sklearn-color-fitted-level-3: cornflowerblue;\n\n  /* Specific color for light theme */\n  --sklearn-color-text-on-default-background: var(--sg-text-color, var(--theme-code-foreground, var(--jp-content-font-color1, black)));\n  --sklearn-color-background: var(--sg-background-color, var(--theme-background, var(--jp-layout-color0, white)));\n  --sklearn-color-border-box: var(--sg-text-color, var(--theme-code-foreground, var(--jp-content-font-color1, black)));\n  --sklearn-color-icon: #696969;\n\n  @media (prefers-color-scheme: dark) {\n    /* Redefinition of color scheme for dark theme */\n    --sklearn-color-text-on-default-background: var(--sg-text-color, var(--theme-code-foreground, var(--jp-content-font-color1, white)));\n    --sklearn-color-background: var(--sg-background-color, var(--theme-background, var(--jp-layout-color0, #111)));\n    --sklearn-color-border-box: var(--sg-text-color, var(--theme-code-foreground, var(--jp-content-font-color1, white)));\n    --sklearn-color-icon: #878787;\n  }\n}\n\n#sk-container-id-2 {\n  color: var(--sklearn-color-text);\n}\n\n#sk-container-id-2 pre {\n  padding: 0;\n}\n\n#sk-container-id-2 input.sk-hidden--visually {\n  border: 0;\n  clip: rect(1px 1px 1px 1px);\n  clip: rect(1px, 1px, 1px, 1px);\n  height: 1px;\n  margin: -1px;\n  overflow: hidden;\n  padding: 0;\n  position: absolute;\n  width: 1px;\n}\n\n#sk-container-id-2 div.sk-dashed-wrapped {\n  border: 1px dashed var(--sklearn-color-line);\n  margin: 0 0.4em 0.5em 0.4em;\n  box-sizing: border-box;\n  padding-bottom: 0.4em;\n  background-color: var(--sklearn-color-background);\n}\n\n#sk-container-id-2 div.sk-container {\n  /* jupyter's `normalize.less` sets `[hidden] { display: none; }`\n     but bootstrap.min.css set `[hidden] { display: none !important; }`\n     so we also need the `!important` here to be able to override the\n     default hidden behavior on the sphinx rendered scikit-learn.org.\n     See: https://github.com/scikit-learn/scikit-learn/issues/21755 */\n  display: inline-block !important;\n  position: relative;\n}\n\n#sk-container-id-2 div.sk-text-repr-fallback {\n  display: none;\n}\n\ndiv.sk-parallel-item,\ndiv.sk-serial,\ndiv.sk-item {\n  /* draw centered vertical line to link estimators */\n  background-image: linear-gradient(var(--sklearn-color-text-on-default-background), var(--sklearn-color-text-on-default-background));\n  background-size: 2px 100%;\n  background-repeat: no-repeat;\n  background-position: center center;\n}\n\n/* Parallel-specific style estimator block */\n\n#sk-container-id-2 div.sk-parallel-item::after {\n  content: \"\";\n  width: 100%;\n  border-bottom: 2px solid var(--sklearn-color-text-on-default-background);\n  flex-grow: 1;\n}\n\n#sk-container-id-2 div.sk-parallel {\n  display: flex;\n  align-items: stretch;\n  justify-content: center;\n  background-color: var(--sklearn-color-background);\n  position: relative;\n}\n\n#sk-container-id-2 div.sk-parallel-item {\n  display: flex;\n  flex-direction: column;\n}\n\n#sk-container-id-2 div.sk-parallel-item:first-child::after {\n  align-self: flex-end;\n  width: 50%;\n}\n\n#sk-container-id-2 div.sk-parallel-item:last-child::after {\n  align-self: flex-start;\n  width: 50%;\n}\n\n#sk-container-id-2 div.sk-parallel-item:only-child::after {\n  width: 0;\n}\n\n/* Serial-specific style estimator block */\n\n#sk-container-id-2 div.sk-serial {\n  display: flex;\n  flex-direction: column;\n  align-items: center;\n  background-color: var(--sklearn-color-background);\n  padding-right: 1em;\n  padding-left: 1em;\n}\n\n\n/* Toggleable style: style used for estimator/Pipeline/ColumnTransformer box that is\nclickable and can be expanded/collapsed.\n- Pipeline and ColumnTransformer use this feature and define the default style\n- Estimators will overwrite some part of the style using the `sk-estimator` class\n*/\n\n/* Pipeline and ColumnTransformer style (default) */\n\n#sk-container-id-2 div.sk-toggleable {\n  /* Default theme specific background. It is overwritten whether we have a\n  specific estimator or a Pipeline/ColumnTransformer */\n  background-color: var(--sklearn-color-background);\n}\n\n/* Toggleable label */\n#sk-container-id-2 label.sk-toggleable__label {\n  cursor: pointer;\n  display: block;\n  width: 100%;\n  margin-bottom: 0;\n  padding: 0.5em;\n  box-sizing: border-box;\n  text-align: center;\n}\n\n#sk-container-id-2 label.sk-toggleable__label-arrow:before {\n  /* Arrow on the left of the label */\n  content: \"▸\";\n  float: left;\n  margin-right: 0.25em;\n  color: var(--sklearn-color-icon);\n}\n\n#sk-container-id-2 label.sk-toggleable__label-arrow:hover:before {\n  color: var(--sklearn-color-text);\n}\n\n/* Toggleable content - dropdown */\n\n#sk-container-id-2 div.sk-toggleable__content {\n  max-height: 0;\n  max-width: 0;\n  overflow: hidden;\n  text-align: left;\n  /* unfitted */\n  background-color: var(--sklearn-color-unfitted-level-0);\n}\n\n#sk-container-id-2 div.sk-toggleable__content.fitted {\n  /* fitted */\n  background-color: var(--sklearn-color-fitted-level-0);\n}\n\n#sk-container-id-2 div.sk-toggleable__content pre {\n  margin: 0.2em;\n  border-radius: 0.25em;\n  color: var(--sklearn-color-text);\n  /* unfitted */\n  background-color: var(--sklearn-color-unfitted-level-0);\n}\n\n#sk-container-id-2 div.sk-toggleable__content.fitted pre {\n  /* unfitted */\n  background-color: var(--sklearn-color-fitted-level-0);\n}\n\n#sk-container-id-2 input.sk-toggleable__control:checked~div.sk-toggleable__content {\n  /* Expand drop-down */\n  max-height: 200px;\n  max-width: 100%;\n  overflow: auto;\n}\n\n#sk-container-id-2 input.sk-toggleable__control:checked~label.sk-toggleable__label-arrow:before {\n  content: \"▾\";\n}\n\n/* Pipeline/ColumnTransformer-specific style */\n\n#sk-container-id-2 div.sk-label input.sk-toggleable__control:checked~label.sk-toggleable__label {\n  color: var(--sklearn-color-text);\n  background-color: var(--sklearn-color-unfitted-level-2);\n}\n\n#sk-container-id-2 div.sk-label.fitted input.sk-toggleable__control:checked~label.sk-toggleable__label {\n  background-color: var(--sklearn-color-fitted-level-2);\n}\n\n/* Estimator-specific style */\n\n/* Colorize estimator box */\n#sk-container-id-2 div.sk-estimator input.sk-toggleable__control:checked~label.sk-toggleable__label {\n  /* unfitted */\n  background-color: var(--sklearn-color-unfitted-level-2);\n}\n\n#sk-container-id-2 div.sk-estimator.fitted input.sk-toggleable__control:checked~label.sk-toggleable__label {\n  /* fitted */\n  background-color: var(--sklearn-color-fitted-level-2);\n}\n\n#sk-container-id-2 div.sk-label label.sk-toggleable__label,\n#sk-container-id-2 div.sk-label label {\n  /* The background is the default theme color */\n  color: var(--sklearn-color-text-on-default-background);\n}\n\n/* On hover, darken the color of the background */\n#sk-container-id-2 div.sk-label:hover label.sk-toggleable__label {\n  color: var(--sklearn-color-text);\n  background-color: var(--sklearn-color-unfitted-level-2);\n}\n\n/* Label box, darken color on hover, fitted */\n#sk-container-id-2 div.sk-label.fitted:hover label.sk-toggleable__label.fitted {\n  color: var(--sklearn-color-text);\n  background-color: var(--sklearn-color-fitted-level-2);\n}\n\n/* Estimator label */\n\n#sk-container-id-2 div.sk-label label {\n  font-family: monospace;\n  font-weight: bold;\n  display: inline-block;\n  line-height: 1.2em;\n}\n\n#sk-container-id-2 div.sk-label-container {\n  text-align: center;\n}\n\n/* Estimator-specific */\n#sk-container-id-2 div.sk-estimator {\n  font-family: monospace;\n  border: 1px dotted var(--sklearn-color-border-box);\n  border-radius: 0.25em;\n  box-sizing: border-box;\n  margin-bottom: 0.5em;\n  /* unfitted */\n  background-color: var(--sklearn-color-unfitted-level-0);\n}\n\n#sk-container-id-2 div.sk-estimator.fitted {\n  /* fitted */\n  background-color: var(--sklearn-color-fitted-level-0);\n}\n\n/* on hover */\n#sk-container-id-2 div.sk-estimator:hover {\n  /* unfitted */\n  background-color: var(--sklearn-color-unfitted-level-2);\n}\n\n#sk-container-id-2 div.sk-estimator.fitted:hover {\n  /* fitted */\n  background-color: var(--sklearn-color-fitted-level-2);\n}\n\n/* Specification for estimator info (e.g. \"i\" and \"?\") */\n\n/* Common style for \"i\" and \"?\" */\n\n.sk-estimator-doc-link,\na:link.sk-estimator-doc-link,\na:visited.sk-estimator-doc-link {\n  float: right;\n  font-size: smaller;\n  line-height: 1em;\n  font-family: monospace;\n  background-color: var(--sklearn-color-background);\n  border-radius: 1em;\n  height: 1em;\n  width: 1em;\n  text-decoration: none !important;\n  margin-left: 1ex;\n  /* unfitted */\n  border: var(--sklearn-color-unfitted-level-1) 1pt solid;\n  color: var(--sklearn-color-unfitted-level-1);\n}\n\n.sk-estimator-doc-link.fitted,\na:link.sk-estimator-doc-link.fitted,\na:visited.sk-estimator-doc-link.fitted {\n  /* fitted */\n  border: var(--sklearn-color-fitted-level-1) 1pt solid;\n  color: var(--sklearn-color-fitted-level-1);\n}\n\n/* On hover */\ndiv.sk-estimator:hover .sk-estimator-doc-link:hover,\n.sk-estimator-doc-link:hover,\ndiv.sk-label-container:hover .sk-estimator-doc-link:hover,\n.sk-estimator-doc-link:hover {\n  /* unfitted */\n  background-color: var(--sklearn-color-unfitted-level-3);\n  color: var(--sklearn-color-background);\n  text-decoration: none;\n}\n\ndiv.sk-estimator.fitted:hover .sk-estimator-doc-link.fitted:hover,\n.sk-estimator-doc-link.fitted:hover,\ndiv.sk-label-container:hover .sk-estimator-doc-link.fitted:hover,\n.sk-estimator-doc-link.fitted:hover {\n  /* fitted */\n  background-color: var(--sklearn-color-fitted-level-3);\n  color: var(--sklearn-color-background);\n  text-decoration: none;\n}\n\n/* Span, style for the box shown on hovering the info icon */\n.sk-estimator-doc-link span {\n  display: none;\n  z-index: 9999;\n  position: relative;\n  font-weight: normal;\n  right: .2ex;\n  padding: .5ex;\n  margin: .5ex;\n  width: min-content;\n  min-width: 20ex;\n  max-width: 50ex;\n  color: var(--sklearn-color-text);\n  box-shadow: 2pt 2pt 4pt #999;\n  /* unfitted */\n  background: var(--sklearn-color-unfitted-level-0);\n  border: .5pt solid var(--sklearn-color-unfitted-level-3);\n}\n\n.sk-estimator-doc-link.fitted span {\n  /* fitted */\n  background: var(--sklearn-color-fitted-level-0);\n  border: var(--sklearn-color-fitted-level-3);\n}\n\n.sk-estimator-doc-link:hover span {\n  display: block;\n}\n\n/* \"?\"-specific style due to the `<a>` HTML tag */\n\n#sk-container-id-2 a.estimator_doc_link {\n  float: right;\n  font-size: 1rem;\n  line-height: 1em;\n  font-family: monospace;\n  background-color: var(--sklearn-color-background);\n  border-radius: 1rem;\n  height: 1rem;\n  width: 1rem;\n  text-decoration: none;\n  /* unfitted */\n  color: var(--sklearn-color-unfitted-level-1);\n  border: var(--sklearn-color-unfitted-level-1) 1pt solid;\n}\n\n#sk-container-id-2 a.estimator_doc_link.fitted {\n  /* fitted */\n  border: var(--sklearn-color-fitted-level-1) 1pt solid;\n  color: var(--sklearn-color-fitted-level-1);\n}\n\n/* On hover */\n#sk-container-id-2 a.estimator_doc_link:hover {\n  /* unfitted */\n  background-color: var(--sklearn-color-unfitted-level-3);\n  color: var(--sklearn-color-background);\n  text-decoration: none;\n}\n\n#sk-container-id-2 a.estimator_doc_link.fitted:hover {\n  /* fitted */\n  background-color: var(--sklearn-color-fitted-level-3);\n}\n</style><div id=\"sk-container-id-2\" class=\"sk-top-container\"><div class=\"sk-text-repr-fallback\"><pre>GradientBoostingRegressor()</pre><b>In a Jupyter environment, please rerun this cell to show the HTML representation or trust the notebook. <br />On GitHub, the HTML representation is unable to render, please try loading this page with nbviewer.org.</b></div><div class=\"sk-container\" hidden><div class=\"sk-item\"><div class=\"sk-estimator fitted sk-toggleable\"><input class=\"sk-toggleable__control sk-hidden--visually\" id=\"sk-estimator-id-2\" type=\"checkbox\" checked><label for=\"sk-estimator-id-2\" class=\"sk-toggleable__label fitted sk-toggleable__label-arrow fitted\">&nbsp;&nbsp;GradientBoostingRegressor<a class=\"sk-estimator-doc-link fitted\" rel=\"noreferrer\" target=\"_blank\" href=\"https://scikit-learn.org/1.4/modules/generated/sklearn.ensemble.GradientBoostingRegressor.html\">?<span>Documentation for GradientBoostingRegressor</span></a><span class=\"sk-estimator-doc-link fitted\">i<span>Fitted</span></span></label><div class=\"sk-toggleable__content fitted\"><pre>GradientBoostingRegressor()</pre></div> </div></div></div></div>"
     },
     "execution_count": 319,
     "metadata": {},
     "output_type": "execute_result"
    }
   ],
   "source": [
    "model = GradientBoostingRegressor()\n",
    "\n",
    "model.fit(filtered_train_dataset, train_label_dataset)\n",
    "# print(model.score(x_train, y_train))"
   ],
   "metadata": {
    "collapsed": false,
    "ExecuteTime": {
     "end_time": "2024-06-29T08:49:25.243277Z",
     "start_time": "2024-06-29T08:49:24.735735Z"
    }
   },
   "id": "8f879473ae7886f"
  },
  {
   "cell_type": "code",
   "execution_count": 320,
   "outputs": [
    {
     "data": {
      "text/plain": "array([126112.61035801, 162544.82095622, 180373.09477691, ...,\n       169584.50897565, 111628.36749524, 241594.90305487])"
     },
     "execution_count": 320,
     "metadata": {},
     "output_type": "execute_result"
    }
   ],
   "source": [
    "model.predict(filtered_test_dataset)"
   ],
   "metadata": {
    "collapsed": false,
    "ExecuteTime": {
     "end_time": "2024-06-29T08:49:27.265631Z",
     "start_time": "2024-06-29T08:49:27.256117Z"
    }
   },
   "id": "b46fe08eac963395"
  },
  {
   "cell_type": "code",
   "execution_count": null,
   "outputs": [],
   "source": [],
   "metadata": {
    "collapsed": false
   },
   "id": "c68cb5cb22173c66"
  }
 ],
 "metadata": {
  "kernelspec": {
   "display_name": "Python 3",
   "language": "python",
   "name": "python3"
  },
  "language_info": {
   "codemirror_mode": {
    "name": "ipython",
    "version": 2
   },
   "file_extension": ".py",
   "mimetype": "text/x-python",
   "name": "python",
   "nbconvert_exporter": "python",
   "pygments_lexer": "ipython2",
   "version": "2.7.6"
  }
 },
 "nbformat": 4,
 "nbformat_minor": 5
}
